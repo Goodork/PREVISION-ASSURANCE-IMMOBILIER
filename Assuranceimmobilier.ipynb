{
 "cells": [
  {
   "cell_type": "code",
   "execution_count": 1,
   "id": "4e64cd30",
   "metadata": {},
   "outputs": [
    {
     "data": {
      "text/plain": [
       ""
      ]
     },
     "execution_count": 1,
     "metadata": {},
     "output_type": "execute_result"
    }
   ],
   "source": [
    ""
   ]
  },
  {
   "cell_type": "markdown",
   "id": "3d1fa634",
   "metadata": {},
   "source": [
    "#### Data science Nigeria 2019 Challenge: Prevision d'assurance.\n",
    "En tant qu'analyste principal des données il s'agit de construire un modèle prédictif afin de déterminer si un batiment fera l'objet d'une reclamation d'assurance pendant une certaine période ou non.\n",
    "Il s'agit de prédire la probabilité d'avoir au moins un sinistre sur le batiment. Le modèle sera basé sur les caracteristiques du batiment."
   ]
  },
  {
   "cell_type": "code",
   "execution_count": 219,
   "id": "b0cf84da",
   "metadata": {},
   "outputs": [],
   "source": [
    "# Importons les differentes librairies dont nous aurons besoin\n",
    "import pandas as pd\n",
    "import numpy as np\n",
    "import seaborn as sns\n",
    "import matplotlib.pyplot as plt\n",
    "from sklearn.preprocessing import LabelEncoder\n",
    "from sklearn.model_selection import train_test_split,learning_curve,GridSearchCV\n",
    "from sklearn.metrics import confusion_matrix,classification_report\n",
    "from sklearn.naive_bayes import BernoulliNB\n",
    "from sklearn.linear_model import LogisticRegression\n",
    "from sklearn.svm import SVC\n",
    "from sklearn.ensemble import RandomForestClassifier,AdaBoostClassifier,GradientBoostingClassifier\n",
    "from sklearn.neighbors import KNeighborsClassifier\n",
    "from sklearn.neural_network import MLPClassifier\n"
   ]
  },
  {
   "cell_type": "code",
   "execution_count": 4,
   "id": "eec7056f",
   "metadata": {},
   "outputs": [
    {
     "data": {
      "text/html": [
       "<div>\n",
       "<style scoped>\n",
       "    .dataframe tbody tr th:only-of-type {\n",
       "        vertical-align: middle;\n",
       "    }\n",
       "\n",
       "    .dataframe tbody tr th {\n",
       "        vertical-align: top;\n",
       "    }\n",
       "\n",
       "    .dataframe thead th {\n",
       "        text-align: right;\n",
       "    }\n",
       "</style>\n",
       "<table border=\"1\" class=\"dataframe\">\n",
       "  <thead>\n",
       "    <tr style=\"text-align: right;\">\n",
       "      <th></th>\n",
       "      <th>Customer Id</th>\n",
       "      <th>YearOfObservation</th>\n",
       "      <th>Insured_Period</th>\n",
       "      <th>Residential</th>\n",
       "      <th>Building_Painted</th>\n",
       "      <th>Building_Fenced</th>\n",
       "      <th>Garden</th>\n",
       "      <th>Settlement</th>\n",
       "      <th>Building Dimension</th>\n",
       "      <th>Building_Type</th>\n",
       "      <th>Date_of_Occupancy</th>\n",
       "      <th>NumberOfWindows</th>\n",
       "      <th>Geo_Code</th>\n",
       "      <th>Claim</th>\n",
       "    </tr>\n",
       "  </thead>\n",
       "  <tbody>\n",
       "    <tr>\n",
       "      <th>0</th>\n",
       "      <td>H14663</td>\n",
       "      <td>2013</td>\n",
       "      <td>1.0</td>\n",
       "      <td>0</td>\n",
       "      <td>N</td>\n",
       "      <td>V</td>\n",
       "      <td>V</td>\n",
       "      <td>U</td>\n",
       "      <td>290.0</td>\n",
       "      <td>1</td>\n",
       "      <td>1960.0</td>\n",
       "      <td>.</td>\n",
       "      <td>1053</td>\n",
       "      <td>0</td>\n",
       "    </tr>\n",
       "    <tr>\n",
       "      <th>1</th>\n",
       "      <td>H2037</td>\n",
       "      <td>2015</td>\n",
       "      <td>1.0</td>\n",
       "      <td>0</td>\n",
       "      <td>V</td>\n",
       "      <td>N</td>\n",
       "      <td>O</td>\n",
       "      <td>R</td>\n",
       "      <td>490.0</td>\n",
       "      <td>1</td>\n",
       "      <td>1850.0</td>\n",
       "      <td>4</td>\n",
       "      <td>1053</td>\n",
       "      <td>0</td>\n",
       "    </tr>\n",
       "    <tr>\n",
       "      <th>2</th>\n",
       "      <td>H3802</td>\n",
       "      <td>2014</td>\n",
       "      <td>1.0</td>\n",
       "      <td>0</td>\n",
       "      <td>N</td>\n",
       "      <td>V</td>\n",
       "      <td>V</td>\n",
       "      <td>U</td>\n",
       "      <td>595.0</td>\n",
       "      <td>1</td>\n",
       "      <td>1960.0</td>\n",
       "      <td>.</td>\n",
       "      <td>1053</td>\n",
       "      <td>0</td>\n",
       "    </tr>\n",
       "    <tr>\n",
       "      <th>3</th>\n",
       "      <td>H3834</td>\n",
       "      <td>2013</td>\n",
       "      <td>1.0</td>\n",
       "      <td>0</td>\n",
       "      <td>V</td>\n",
       "      <td>V</td>\n",
       "      <td>V</td>\n",
       "      <td>U</td>\n",
       "      <td>2840.0</td>\n",
       "      <td>1</td>\n",
       "      <td>1960.0</td>\n",
       "      <td>.</td>\n",
       "      <td>1053</td>\n",
       "      <td>0</td>\n",
       "    </tr>\n",
       "    <tr>\n",
       "      <th>4</th>\n",
       "      <td>H5053</td>\n",
       "      <td>2014</td>\n",
       "      <td>1.0</td>\n",
       "      <td>0</td>\n",
       "      <td>V</td>\n",
       "      <td>N</td>\n",
       "      <td>O</td>\n",
       "      <td>R</td>\n",
       "      <td>680.0</td>\n",
       "      <td>1</td>\n",
       "      <td>1800.0</td>\n",
       "      <td>3</td>\n",
       "      <td>1053</td>\n",
       "      <td>0</td>\n",
       "    </tr>\n",
       "  </tbody>\n",
       "</table>\n",
       "</div>"
      ],
      "text/plain": [
       "  Customer Id  YearOfObservation  Insured_Period  Residential  \\\n",
       "0      H14663               2013             1.0            0   \n",
       "1       H2037               2015             1.0            0   \n",
       "2       H3802               2014             1.0            0   \n",
       "3       H3834               2013             1.0            0   \n",
       "4       H5053               2014             1.0            0   \n",
       "\n",
       "  Building_Painted Building_Fenced Garden Settlement  Building Dimension  \\\n",
       "0                N               V      V          U               290.0   \n",
       "1                V               N      O          R               490.0   \n",
       "2                N               V      V          U               595.0   \n",
       "3                V               V      V          U              2840.0   \n",
       "4                V               N      O          R               680.0   \n",
       "\n",
       "   Building_Type  Date_of_Occupancy NumberOfWindows Geo_Code  Claim  \n",
       "0              1             1960.0               .     1053      0  \n",
       "1              1             1850.0               4     1053      0  \n",
       "2              1             1960.0               .     1053      0  \n",
       "3              1             1960.0               .     1053      0  \n",
       "4              1             1800.0               3     1053      0  "
      ]
     },
     "execution_count": 4,
     "metadata": {},
     "output_type": "execute_result"
    }
   ],
   "source": [
    "# Affichons l'ensemble de la base de données utilisée\n",
    "data=pd.read_csv('train_data.csv')\n",
    "data.head()"
   ]
  },
  {
   "cell_type": "code",
   "execution_count": 5,
   "id": "796592a3",
   "metadata": {},
   "outputs": [
    {
     "name": "stdout",
     "output_type": "stream",
     "text": [
      "<class 'pandas.core.frame.DataFrame'>\n",
      "RangeIndex: 7160 entries, 0 to 7159\n",
      "Data columns (total 14 columns):\n",
      " #   Column              Non-Null Count  Dtype  \n",
      "---  ------              --------------  -----  \n",
      " 0   Customer Id         7160 non-null   object \n",
      " 1   YearOfObservation   7160 non-null   int64  \n",
      " 2   Insured_Period      7160 non-null   float64\n",
      " 3   Residential         7160 non-null   int64  \n",
      " 4   Building_Painted    7160 non-null   object \n",
      " 5   Building_Fenced     7160 non-null   object \n",
      " 6   Garden              7153 non-null   object \n",
      " 7   Settlement          7160 non-null   object \n",
      " 8   Building Dimension  7054 non-null   float64\n",
      " 9   Building_Type       7160 non-null   int64  \n",
      " 10  Date_of_Occupancy   6652 non-null   float64\n",
      " 11  NumberOfWindows     7160 non-null   object \n",
      " 12  Geo_Code            7058 non-null   object \n",
      " 13  Claim               7160 non-null   int64  \n",
      "dtypes: float64(3), int64(4), object(7)\n",
      "memory usage: 783.2+ KB\n"
     ]
    }
   ],
   "source": [
    "# Ensemble d'informations sur les données.\n",
    "data.info()"
   ]
  },
  {
   "cell_type": "code",
   "execution_count": 8,
   "id": "d28f1b34",
   "metadata": {},
   "outputs": [
    {
     "data": {
      "text/plain": [
       "(7160, 14)"
      ]
     },
     "execution_count": 8,
     "metadata": {},
     "output_type": "execute_result"
    }
   ],
   "source": [
    "# Détectons le nombre de lignes et le nombre de colones.\n",
    "data.shape\n",
    "# Notre dataset contient 7160 lignes et 14 colones."
   ]
  },
  {
   "cell_type": "code",
   "execution_count": 15,
   "id": "ce0dc775",
   "metadata": {},
   "outputs": [
    {
     "data": {
      "text/plain": [
       "Customer Id            object\n",
       "YearOfObservation       int64\n",
       "Insured_Period        float64\n",
       "Residential             int64\n",
       "Building_Painted       object\n",
       "Building_Fenced        object\n",
       "Garden                 object\n",
       "Settlement             object\n",
       "Building Dimension    float64\n",
       "Building_Type           int64\n",
       "Date_of_Occupancy     float64\n",
       "NumberOfWindows        object\n",
       "Geo_Code               object\n",
       "Claim                   int64\n",
       "dtype: object"
      ]
     },
     "execution_count": 15,
     "metadata": {},
     "output_type": "execute_result"
    }
   ],
   "source": [
    "# Identifions le tpe de chaque variable presente dans le dataset\n",
    "data.dtypes"
   ]
  },
  {
   "cell_type": "code",
   "execution_count": 17,
   "id": "1fdd8fa3",
   "metadata": {},
   "outputs": [
    {
     "data": {
      "text/plain": [
       "object     7\n",
       "int64      4\n",
       "float64    3\n",
       "dtype: int64"
      ]
     },
     "execution_count": 17,
     "metadata": {},
     "output_type": "execute_result"
    }
   ],
   "source": [
    "# Identifions le tpe de chaque variable presente dans le dataset\n",
    "data.dtypes.value_counts()\n",
    "# Notre dataset contient 7 variables de type object,4 variables de type int64 et 3 variables de tpe float64\n"
   ]
  },
  {
   "cell_type": "code",
   "execution_count": 19,
   "id": "0886563c",
   "metadata": {},
   "outputs": [
    {
     "data": {
      "text/plain": [
       "Customer Id             0\n",
       "YearOfObservation       0\n",
       "Insured_Period          0\n",
       "Residential             0\n",
       "Building_Painted        0\n",
       "Building_Fenced         0\n",
       "Garden                  7\n",
       "Settlement              0\n",
       "Building Dimension    106\n",
       "Building_Type           0\n",
       "Date_of_Occupancy     508\n",
       "NumberOfWindows         0\n",
       "Geo_Code              102\n",
       "Claim                   0\n",
       "dtype: int64"
      ]
     },
     "execution_count": 19,
     "metadata": {},
     "output_type": "execute_result"
    }
   ],
   "source": [
    "# Identification des valeurs manquantes\n",
    "data.isna().sum()"
   ]
  },
  {
   "cell_type": "markdown",
   "id": "e4daa684",
   "metadata": {},
   "source": [
    "Les variables contenant des valeurs manquantes sont :\n",
    "\n",
    "Building Dimension: 106.\n",
    "\n",
    "Date_of_Occupancy: 508.\n",
    "\n",
    "Geo_Code : 102."
   ]
  },
  {
   "cell_type": "code",
   "execution_count": 22,
   "id": "8752cfd0",
   "metadata": {},
   "outputs": [
    {
     "data": {
      "text/plain": [
       "<AxesSubplot:xlabel='Claim', ylabel='Count'>"
      ]
     },
     "execution_count": 22,
     "metadata": {},
     "output_type": "execute_result"
    },
    {
     "data": {
      "image/png": "[encoded data removed]",
      "text/plain": [
       "<Figure size 432x288 with 1 Axes>"
      ]
     },
     "metadata": {
      "needs_background": "light"
     },
     "output_type": "display_data"
    }
   ],
   "source": [
    "# Visualisation de la variable à predire :Claim\n",
    "sns.histplot(data['Claim'])\n",
    "#Le nombre de reclamation d'assurance(1.0) est plus petit que le nombre de personnes n'aant reclamé aucune assurance.(0.0)"
   ]
  },
  {
   "cell_type": "markdown",
   "id": "7800e841",
   "metadata": {},
   "source": [
    "###### VISUALISATION DE L'ENSEMBLE DES VARIABLES DE LA BASE DE DONNEES."
   ]
  },
  {
   "cell_type": "code",
   "execution_count": 23,
   "id": "cf45d06e",
   "metadata": {},
   "outputs": [
    {
     "data": {
      "text/plain": [
       "Index(['Customer Id', 'YearOfObservation', 'Insured_Period', 'Residential',\n",
       "       'Building_Painted', 'Building_Fenced', 'Garden', 'Settlement',\n",
       "       'Building Dimension', 'Building_Type', 'Date_of_Occupancy',\n",
       "       'NumberOfWindows', 'Geo_Code', 'Claim'],\n",
       "      dtype='object')"
      ]
     },
     "execution_count": 23,
     "metadata": {},
     "output_type": "execute_result"
    }
   ],
   "source": [
    "data.columns"
   ]
  },
  {
   "cell_type": "code",
   "execution_count": 25,
   "id": "3082d02e",
   "metadata": {},
   "outputs": [
    {
     "name": "stderr",
     "output_type": "stream",
     "text": [
      "C:\\Users\\NEUMAN\\anaconda3\\lib\\site-packages\\seaborn\\_decorators.py:36: FutureWarning: Pass the following variable as a keyword arg: x. From version 0.12, the only valid positional argument will be `data`, and passing other arguments without an explicit keyword will result in an error or misinterpretation.\n",
      "  warnings.warn(\n"
     ]
    },
    {
     "data": {
      "text/plain": [
       "<AxesSubplot:xlabel='Residential', ylabel='count'>"
      ]
     },
     "execution_count": 25,
     "metadata": {},
     "output_type": "execute_result"
    },
    {
     "data": {
      "image/png": "[encoded data removed]",
      "text/plain": [
       "<Figure size 432x288 with 1 Axes>"
      ]
     },
     "metadata": {
      "needs_background": "light"
     },
     "output_type": "display_data"
    }
   ],
   "source": [
    "#variable Residential\n",
    "sns.countplot(data['Residential'])"
   ]
  },
  {
   "cell_type": "code",
   "execution_count": 26,
   "id": "0838da1d",
   "metadata": {},
   "outputs": [
    {
     "name": "stderr",
     "output_type": "stream",
     "text": [
      "C:\\Users\\NEUMAN\\anaconda3\\lib\\site-packages\\seaborn\\_decorators.py:36: FutureWarning: Pass the following variable as a keyword arg: x. From version 0.12, the only valid positional argument will be `data`, and passing other arguments without an explicit keyword will result in an error or misinterpretation.\n",
      "  warnings.warn(\n"
     ]
    },
    {
     "data": {
      "text/plain": [
       "<AxesSubplot:xlabel='Building_Painted', ylabel='count'>"
      ]
     },
     "execution_count": 26,
     "metadata": {},
     "output_type": "execute_result"
    },
    {
     "data": {
      "image/png": "[encoded data removed]",
      "text/plain": [
       "<Figure size 432x288 with 1 Axes>"
      ]
     },
     "metadata": {
      "needs_background": "light"
     },
     "output_type": "display_data"
    }
   ],
   "source": [
    "sns.countplot(data['Building_Painted'])"
   ]
  },
  {
   "cell_type": "code",
   "execution_count": 27,
   "id": "a53f30ca",
   "metadata": {},
   "outputs": [
    {
     "name": "stderr",
     "output_type": "stream",
     "text": [
      "C:\\Users\\NEUMAN\\anaconda3\\lib\\site-packages\\seaborn\\_decorators.py:36: FutureWarning: Pass the following variable as a keyword arg: x. From version 0.12, the only valid positional argument will be `data`, and passing other arguments without an explicit keyword will result in an error or misinterpretation.\n",
      "  warnings.warn(\n"
     ]
    },
    {
     "data": {
      "text/plain": [
       "<AxesSubplot:xlabel='Building_Type', ylabel='count'>"
      ]
     },
     "execution_count": 27,
     "metadata": {},
     "output_type": "execute_result"
    },
    {
     "data": {
      "image/png": "[encoded data removed]",
      "text/plain": [
       "<Figure size 432x288 with 1 Axes>"
      ]
     },
     "metadata": {
      "needs_background": "light"
     },
     "output_type": "display_data"
    }
   ],
   "source": [
    "sns.countplot(data['Building_Type'])"
   ]
  },
  {
   "cell_type": "code",
   "execution_count": 29,
   "id": "0188e2ca",
   "metadata": {},
   "outputs": [
    {
     "data": {
      "text/plain": [
       "<AxesSubplot:xlabel='Garden', ylabel='count'>"
      ]
     },
     "execution_count": 29,
     "metadata": {},
     "output_type": "execute_result"
    },
    {
     "data": {
      "image/png": "[encoded data removed]",
      "text/plain": [
       "<Figure size 432x288 with 1 Axes>"
      ]
     },
     "metadata": {
      "needs_background": "light"
     },
     "output_type": "display_data"
    }
   ],
   "source": [
    "sns.countplot(data['Garden'])"
   ]
  },
  {
   "cell_type": "code",
   "execution_count": 31,
   "id": "a6a5f609",
   "metadata": {},
   "outputs": [
    {
     "name": "stderr",
     "output_type": "stream",
     "text": [
      "C:\\Users\\NEUMAN\\anaconda3\\lib\\site-packages\\seaborn\\_decorators.py:36: FutureWarning: Pass the following variables as keyword args: x, y. From version 0.12, the only valid positional argument will be `data`, and passing other arguments without an explicit keyword will result in an error or misinterpretation.\n",
      "  warnings.warn(\n"
     ]
    },
    {
     "data": {
      "text/plain": [
       "<AxesSubplot:xlabel='Claim', ylabel='Residential'>"
      ]
     },
     "execution_count": 31,
     "metadata": {},
     "output_type": "execute_result"
    },
    {
     "data": {
      "image/png": "[encoded data removed]",
      "text/plain": [
       "<Figure size 432x288 with 1 Axes>"
      ]
     },
     "metadata": {
      "needs_background": "light"
     },
     "output_type": "display_data"
    }
   ],
   "source": [
    "sns.lineplot(data['Claim'],data['Residential'])"
   ]
  },
  {
   "cell_type": "code",
   "execution_count": 34,
   "id": "cbe028d3",
   "metadata": {},
   "outputs": [
    {
     "name": "stderr",
     "output_type": "stream",
     "text": [
      "C:\\Users\\NEUMAN\\anaconda3\\lib\\site-packages\\seaborn\\_decorators.py:36: FutureWarning: Pass the following variables as keyword args: x, y. From version 0.12, the only valid positional argument will be `data`, and passing other arguments without an explicit keyword will result in an error or misinterpretation.\n",
      "  warnings.warn(\n"
     ]
    },
    {
     "data": {
      "text/plain": [
       "<AxesSubplot:xlabel='Building_Type', ylabel='Claim'>"
      ]
     },
     "execution_count": 34,
     "metadata": {},
     "output_type": "execute_result"
    },
    {
     "data": {
      "image/png": "[encoded data removed]",
      "text/plain": [
       "<Figure size 432x288 with 1 Axes>"
      ]
     },
     "metadata": {
      "needs_background": "light"
     },
     "output_type": "display_data"
    }
   ],
   "source": [
    "sns.lineplot(data['Building_Type'],data['Claim'])"
   ]
  },
  {
   "cell_type": "markdown",
   "id": "fe770362",
   "metadata": {},
   "source": [
    "###### Elimination des variables manquantes dans le dataset"
   ]
  },
  {
   "cell_type": "code",
   "execution_count": 42,
   "id": "d493a946",
   "metadata": {},
   "outputs": [
    {
     "data": {
      "text/plain": [
       "<AxesSubplot:>"
      ]
     },
     "execution_count": 42,
     "metadata": {},
     "output_type": "execute_result"
    },
    {
     "data": {
      "image/png": "[encoded data removed]",
      "text/plain": [
       "<Figure size 432x288 with 2 Axes>"
      ]
     },
     "metadata": {
      "needs_background": "light"
     },
     "output_type": "display_data"
    }
   ],
   "source": [
    "# Visualisation des variables manquantes.\n",
    "\n",
    "sns.heatmap(data.isna())"
   ]
  },
  {
   "cell_type": "code",
   "execution_count": 48,
   "id": "668bea5d",
   "metadata": {},
   "outputs": [
    {
     "data": {
      "text/plain": [
       "Customer Id           0\n",
       "YearOfObservation     0\n",
       "Insured_Period        0\n",
       "Residential           0\n",
       "Building_Painted      0\n",
       "Building_Fenced       0\n",
       "Garden                0\n",
       "Settlement            0\n",
       "Building Dimension    0\n",
       "Building_Type         0\n",
       "Date_of_Occupancy     0\n",
       "NumberOfWindows       0\n",
       "Geo_Code              0\n",
       "Claim                 0\n",
       "dtype: int64"
      ]
     },
     "execution_count": 48,
     "metadata": {},
     "output_type": "execute_result"
    }
   ],
   "source": [
    "# Nous supprimons les variables manquantes dans le dataset.\n",
    "\n",
    "data=data.dropna(axis=0)\n",
    "data.isna().sum()"
   ]
  },
  {
   "cell_type": "markdown",
   "id": "45ed32fc",
   "metadata": {},
   "source": [
    "#### Encodage des variables "
   ]
  },
  {
   "cell_type": "code",
   "execution_count": 52,
   "id": "4acf522f",
   "metadata": {},
   "outputs": [
    {
     "data": {
      "text/plain": [
       "array(['N', 'V'], dtype=object)"
      ]
     },
     "execution_count": 52,
     "metadata": {},
     "output_type": "execute_result"
    }
   ],
   "source": [
    "# Affichons l'ensemble des valeurs presentes dans la variable Building_Painted\n",
    "data['Building_Painted'].unique()\n"
   ]
  },
  {
   "cell_type": "code",
   "execution_count": 53,
   "id": "882521a3",
   "metadata": {},
   "outputs": [
    {
     "name": "stderr",
     "output_type": "stream",
     "text": [
      "<ipython-input-53-6252af904d96>:3: SettingWithCopyWarning: \n",
      "A value is trying to be set on a copy of a slice from a DataFrame.\n",
      "Try using .loc[row_indexer,col_indexer] = value instead\n",
      "\n",
      "See the caveats in the documentation: https://pandas.pydata.org/pandas-docs/stable/user_guide/indexing.html#returning-a-view-versus-a-copy\n",
      "  data['Building_Painted']=le.fit_transform(data['Building_Painted'])\n"
     ]
    },
    {
     "data": {
      "text/plain": [
       "0       0\n",
       "1       1\n",
       "2       0\n",
       "3       1\n",
       "4       1\n",
       "       ..\n",
       "7053    1\n",
       "7054    0\n",
       "7055    0\n",
       "7056    0\n",
       "7057    0\n",
       "Name: Building_Painted, Length: 6543, dtype: int32"
      ]
     },
     "execution_count": 53,
     "metadata": {},
     "output_type": "execute_result"
    }
   ],
   "source": [
    "# Encodage de la variable Building_Painted\n",
    "le=LabelEncoder()\n",
    "data['Building_Painted']=le.fit_transform(data['Building_Painted'])\n",
    "data['Building_Painted']"
   ]
  },
  {
   "cell_type": "code",
   "execution_count": 55,
   "id": "a63ff875",
   "metadata": {},
   "outputs": [
    {
     "data": {
      "text/plain": [
       "array(['V', 'N'], dtype=object)"
      ]
     },
     "execution_count": 55,
     "metadata": {},
     "output_type": "execute_result"
    }
   ],
   "source": [
    "# Affichons l'ensemble des valeurs presentes dans la variable Building_Fenced\n",
    "data['Building_Fenced'].unique()\n"
   ]
  },
  {
   "cell_type": "code",
   "execution_count": 56,
   "id": "6585dcc5",
   "metadata": {},
   "outputs": [
    {
     "data": {
      "text/plain": [
       "0       V\n",
       "1       N\n",
       "2       V\n",
       "3       V\n",
       "4       N\n",
       "       ..\n",
       "7053    N\n",
       "7054    V\n",
       "7055    V\n",
       "7056    V\n",
       "7057    V\n",
       "Name: Building_Fenced, Length: 6543, dtype: object"
      ]
     },
     "execution_count": 56,
     "metadata": {},
     "output_type": "execute_result"
    }
   ],
   "source": [
    "data['Building_Fenced']"
   ]
  },
  {
   "cell_type": "code",
   "execution_count": 57,
   "id": "cfe999d9",
   "metadata": {},
   "outputs": [
    {
     "name": "stderr",
     "output_type": "stream",
     "text": [
      "<ipython-input-57-2b507a567b19>:3: SettingWithCopyWarning: \n",
      "A value is trying to be set on a copy of a slice from a DataFrame.\n",
      "Try using .loc[row_indexer,col_indexer] = value instead\n",
      "\n",
      "See the caveats in the documentation: https://pandas.pydata.org/pandas-docs/stable/user_guide/indexing.html#returning-a-view-versus-a-copy\n",
      "  data['Building_Fenced']=le.fit_transform(data['Building_Fenced'])\n"
     ]
    },
    {
     "data": {
      "text/plain": [
       "0       1\n",
       "1       0\n",
       "2       1\n",
       "3       1\n",
       "4       0\n",
       "       ..\n",
       "7053    0\n",
       "7054    1\n",
       "7055    1\n",
       "7056    1\n",
       "7057    1\n",
       "Name: Building_Fenced, Length: 6543, dtype: int32"
      ]
     },
     "execution_count": 57,
     "metadata": {},
     "output_type": "execute_result"
    }
   ],
   "source": [
    "# Encodage de la variable Building_Fenced\n",
    "le=LabelEncoder()\n",
    "data['Building_Fenced']=le.fit_transform(data['Building_Fenced'])\n",
    "data['Building_Fenced']"
   ]
  },
  {
   "cell_type": "code",
   "execution_count": 58,
   "id": "da2c6b96",
   "metadata": {},
   "outputs": [
    {
     "data": {
      "text/plain": [
       "array(['V', 'O'], dtype=object)"
      ]
     },
     "execution_count": 58,
     "metadata": {},
     "output_type": "execute_result"
    }
   ],
   "source": [
    "# Affichons l'ensemble des valeurs presentes dans la variable Garden\n",
    "data['Garden'].unique()\n"
   ]
  },
  {
   "cell_type": "code",
   "execution_count": 59,
   "id": "a9b831b8",
   "metadata": {},
   "outputs": [
    {
     "data": {
      "text/plain": [
       "0       V\n",
       "1       O\n",
       "2       V\n",
       "3       V\n",
       "4       O\n",
       "       ..\n",
       "7053    O\n",
       "7054    V\n",
       "7055    V\n",
       "7056    V\n",
       "7057    V\n",
       "Name: Garden, Length: 6543, dtype: object"
      ]
     },
     "execution_count": 59,
     "metadata": {},
     "output_type": "execute_result"
    }
   ],
   "source": [
    "data['Garden']"
   ]
  },
  {
   "cell_type": "code",
   "execution_count": 60,
   "id": "df982bd0",
   "metadata": {},
   "outputs": [
    {
     "name": "stderr",
     "output_type": "stream",
     "text": [
      "<ipython-input-60-06e1617011f5>:3: SettingWithCopyWarning: \n",
      "A value is trying to be set on a copy of a slice from a DataFrame.\n",
      "Try using .loc[row_indexer,col_indexer] = value instead\n",
      "\n",
      "See the caveats in the documentation: https://pandas.pydata.org/pandas-docs/stable/user_guide/indexing.html#returning-a-view-versus-a-copy\n",
      "  data['Garden']=le.fit_transform(data['Garden'])\n"
     ]
    },
    {
     "data": {
      "text/plain": [
       "0       1\n",
       "1       0\n",
       "2       1\n",
       "3       1\n",
       "4       0\n",
       "       ..\n",
       "7053    0\n",
       "7054    1\n",
       "7055    1\n",
       "7056    1\n",
       "7057    1\n",
       "Name: Garden, Length: 6543, dtype: int32"
      ]
     },
     "execution_count": 60,
     "metadata": {},
     "output_type": "execute_result"
    }
   ],
   "source": [
    "# Encodage de la variable Garden\n",
    "le=LabelEncoder()\n",
    "data['Garden']=le.fit_transform(data['Garden'])\n",
    "data['Garden']"
   ]
  },
  {
   "cell_type": "code",
   "execution_count": 61,
   "id": "58272daf",
   "metadata": {},
   "outputs": [
    {
     "data": {
      "text/plain": [
       "array(['U', 'R'], dtype=object)"
      ]
     },
     "execution_count": 61,
     "metadata": {},
     "output_type": "execute_result"
    }
   ],
   "source": [
    "# Affichons l'ensemble des valeurs presentes dans la variable Settlement\n",
    "data['Settlement'].unique()"
   ]
  },
  {
   "cell_type": "code",
   "execution_count": 62,
   "id": "6e4ee027",
   "metadata": {},
   "outputs": [
    {
     "data": {
      "text/plain": [
       "0       U\n",
       "1       R\n",
       "2       U\n",
       "3       U\n",
       "4       R\n",
       "       ..\n",
       "7053    R\n",
       "7054    U\n",
       "7055    U\n",
       "7056    U\n",
       "7057    U\n",
       "Name: Settlement, Length: 6543, dtype: object"
      ]
     },
     "execution_count": 62,
     "metadata": {},
     "output_type": "execute_result"
    }
   ],
   "source": [
    "data['Settlement']"
   ]
  },
  {
   "cell_type": "code",
   "execution_count": 63,
   "id": "d9794d3e",
   "metadata": {},
   "outputs": [
    {
     "name": "stderr",
     "output_type": "stream",
     "text": [
      "<ipython-input-63-5553ffb569f5>:3: SettingWithCopyWarning: \n",
      "A value is trying to be set on a copy of a slice from a DataFrame.\n",
      "Try using .loc[row_indexer,col_indexer] = value instead\n",
      "\n",
      "See the caveats in the documentation: https://pandas.pydata.org/pandas-docs/stable/user_guide/indexing.html#returning-a-view-versus-a-copy\n",
      "  data['Settlement']=le.fit_transform(data['Settlement'])\n"
     ]
    },
    {
     "data": {
      "text/plain": [
       "0       1\n",
       "1       0\n",
       "2       1\n",
       "3       1\n",
       "4       0\n",
       "       ..\n",
       "7053    0\n",
       "7054    1\n",
       "7055    1\n",
       "7056    1\n",
       "7057    1\n",
       "Name: Settlement, Length: 6543, dtype: int32"
      ]
     },
     "execution_count": 63,
     "metadata": {},
     "output_type": "execute_result"
    }
   ],
   "source": [
    "# Encodage de la variable Settlement\n",
    "le=LabelEncoder()\n",
    "data['Settlement']=le.fit_transform(data['Settlement'])\n",
    "data['Settlement']"
   ]
  },
  {
   "cell_type": "code",
   "execution_count": 71,
   "id": "11dd2e57",
   "metadata": {},
   "outputs": [
    {
     "data": {
      "text/plain": [
       "array(['   .', '4', '3', '2', '5', '>=10', '6', '7', '9', '8', '1'],\n",
       "      dtype=object)"
      ]
     },
     "execution_count": 71,
     "metadata": {},
     "output_type": "execute_result"
    }
   ],
   "source": [
    "# Affichons l'ensemble des valeurs présentes dans la variable NumberOfWindows\n",
    "data['NumberOfWindows'].unique()"
   ]
  },
  {
   "cell_type": "code",
   "execution_count": 72,
   "id": "3d95814b",
   "metadata": {},
   "outputs": [
    {
     "data": {
      "text/plain": [
       "False    3602\n",
       "True     2941\n",
       "Name: NumberOfWindows, dtype: int64"
      ]
     },
     "execution_count": 72,
     "metadata": {},
     "output_type": "execute_result"
    }
   ],
   "source": [
    "(data['NumberOfWindows']=='   .').value_counts()"
   ]
  },
  {
   "cell_type": "code",
   "execution_count": 73,
   "id": "93c75c5d",
   "metadata": {},
   "outputs": [
    {
     "data": {
      "text/plain": [
       "0          .\n",
       "1          4\n",
       "2          .\n",
       "3          .\n",
       "4          3\n",
       "        ... \n",
       "7053       3\n",
       "7054       .\n",
       "7055       .\n",
       "7056       .\n",
       "7057       .\n",
       "Name: NumberOfWindows, Length: 6543, dtype: object"
      ]
     },
     "execution_count": 73,
     "metadata": {},
     "output_type": "execute_result"
    }
   ],
   "source": [
    "data['NumberOfWindows']"
   ]
  },
  {
   "cell_type": "code",
   "execution_count": 74,
   "id": "3679efcc",
   "metadata": {},
   "outputs": [
    {
     "data": {
      "text/plain": [
       "0       0\n",
       "1       4\n",
       "2       0\n",
       "3       0\n",
       "4       3\n",
       "       ..\n",
       "7053    3\n",
       "7054    0\n",
       "7055    0\n",
       "7056    0\n",
       "7057    0\n",
       "Name: NumberOfWindows, Length: 6543, dtype: int64"
      ]
     },
     "execution_count": 74,
     "metadata": {},
     "output_type": "execute_result"
    }
   ],
   "source": [
    "# Remplacons les valeurs de la variable NumberOfWindows par des valers numériques correspondantes.\n",
    "data['NumberOfWindows']=data['NumberOfWindows'].replace(['   .', '4', '3', '2', '5', '>=10', '6', '7', '9', '8', '1'],[0,4,3,2,5,10,6,7,9,8,1])\n",
    "data['NumberOfWindows']"
   ]
  },
  {
   "cell_type": "code",
   "execution_count": 76,
   "id": "ff6f7b0e",
   "metadata": {},
   "outputs": [
    {
     "data": {
      "text/plain": [
       "array(['1053', '1143', '1160', ..., '2B050', '2B096', '2B353'],\n",
       "      dtype=object)"
      ]
     },
     "execution_count": 76,
     "metadata": {},
     "output_type": "execute_result"
    }
   ],
   "source": [
    "# Affichons l'ensemble des variables présentes dans la variable Geo_Code\n",
    "data['Geo_Code'].unique()"
   ]
  },
  {
   "cell_type": "code",
   "execution_count": 77,
   "id": "46daa6c9",
   "metadata": {},
   "outputs": [
    {
     "data": {
      "text/plain": [
       "0        1053\n",
       "1        1053\n",
       "2        1053\n",
       "3        1053\n",
       "4        1053\n",
       "        ...  \n",
       "7053    2B042\n",
       "7054    2B050\n",
       "7055    2B050\n",
       "7056    2B096\n",
       "7057    2B353\n",
       "Name: Geo_Code, Length: 6543, dtype: object"
      ]
     },
     "execution_count": 77,
     "metadata": {},
     "output_type": "execute_result"
    }
   ],
   "source": [
    "data['Geo_Code']"
   ]
  },
  {
   "cell_type": "code",
   "execution_count": 98,
   "id": "9cb96648",
   "metadata": {},
   "outputs": [
    {
     "ename": "ValueError",
     "evalue": "invalid literal for int() with base 10: '2A004'",
     "output_type": "error",
     "traceback": [
      "\u001b[1;31m---------------------------------------------------------------------------\u001b[0m",
      "\u001b[1;31mValueError\u001b[0m                                Traceback (most recent call last)",
      "\u001b[1;32m<ipython-input-98-3195ed337bf7>\u001b[0m in \u001b[0;36m<module>\u001b[1;34m\u001b[0m\n\u001b[0;32m      1\u001b[0m \u001b[1;31m# Remplacons les valeurs de la variable Geo_Code par des valers numériques correspondantes.\u001b[0m\u001b[1;33m\u001b[0m\u001b[1;33m\u001b[0m\u001b[1;33m\u001b[0m\u001b[0m\n\u001b[1;32m----> 2\u001b[1;33m \u001b[0mdata\u001b[0m\u001b[1;33m[\u001b[0m\u001b[1;34m'Geo_Code'\u001b[0m\u001b[1;33m]\u001b[0m\u001b[1;33m=\u001b[0m\u001b[0mdata\u001b[0m\u001b[1;33m[\u001b[0m\u001b[1;34m'Geo_Code'\u001b[0m\u001b[1;33m]\u001b[0m\u001b[1;33m.\u001b[0m\u001b[0mastype\u001b[0m\u001b[1;33m(\u001b[0m\u001b[0mint\u001b[0m\u001b[1;33m)\u001b[0m\u001b[1;33m\u001b[0m\u001b[1;33m\u001b[0m\u001b[0m\n\u001b[0m\u001b[0;32m      3\u001b[0m \u001b[1;31m# La variable Geo_Code contient des lettres dans certaines valeurs.Il n'est pas possible de les convertir en entier.\u001b[0m\u001b[1;33m\u001b[0m\u001b[1;33m\u001b[0m\u001b[1;33m\u001b[0m\u001b[0m\n\u001b[0;32m      4\u001b[0m \u001b[1;31m# Cette valers ne sera pas donc tiliser lors de la prediction por l'assurance.\u001b[0m\u001b[1;33m\u001b[0m\u001b[1;33m\u001b[0m\u001b[1;33m\u001b[0m\u001b[0m\n",
      "\u001b[1;32m~\\anaconda3\\lib\\site-packages\\pandas\\core\\generic.py\u001b[0m in \u001b[0;36mastype\u001b[1;34m(self, dtype, copy, errors)\u001b[0m\n\u001b[0;32m   5875\u001b[0m         \u001b[1;32melse\u001b[0m\u001b[1;33m:\u001b[0m\u001b[1;33m\u001b[0m\u001b[1;33m\u001b[0m\u001b[0m\n\u001b[0;32m   5876\u001b[0m             \u001b[1;31m# else, only a single dtype is given\u001b[0m\u001b[1;33m\u001b[0m\u001b[1;33m\u001b[0m\u001b[1;33m\u001b[0m\u001b[0m\n\u001b[1;32m-> 5877\u001b[1;33m             \u001b[0mnew_data\u001b[0m \u001b[1;33m=\u001b[0m \u001b[0mself\u001b[0m\u001b[1;33m.\u001b[0m\u001b[0m_mgr\u001b[0m\u001b[1;33m.\u001b[0m\u001b[0mastype\u001b[0m\u001b[1;33m(\u001b[0m\u001b[0mdtype\u001b[0m\u001b[1;33m=\u001b[0m\u001b[0mdtype\u001b[0m\u001b[1;33m,\u001b[0m \u001b[0mcopy\u001b[0m\u001b[1;33m=\u001b[0m\u001b[0mcopy\u001b[0m\u001b[1;33m,\u001b[0m \u001b[0merrors\u001b[0m\u001b[1;33m=\u001b[0m\u001b[0merrors\u001b[0m\u001b[1;33m)\u001b[0m\u001b[1;33m\u001b[0m\u001b[1;33m\u001b[0m\u001b[0m\n\u001b[0m\u001b[0;32m   5878\u001b[0m             \u001b[1;32mreturn\u001b[0m \u001b[0mself\u001b[0m\u001b[1;33m.\u001b[0m\u001b[0m_constructor\u001b[0m\u001b[1;33m(\u001b[0m\u001b[0mnew_data\u001b[0m\u001b[1;33m)\u001b[0m\u001b[1;33m.\u001b[0m\u001b[0m__finalize__\u001b[0m\u001b[1;33m(\u001b[0m\u001b[0mself\u001b[0m\u001b[1;33m,\u001b[0m \u001b[0mmethod\u001b[0m\u001b[1;33m=\u001b[0m\u001b[1;34m\"astype\"\u001b[0m\u001b[1;33m)\u001b[0m\u001b[1;33m\u001b[0m\u001b[1;33m\u001b[0m\u001b[0m\n\u001b[0;32m   5879\u001b[0m \u001b[1;33m\u001b[0m\u001b[0m\n",
      "\u001b[1;32m~\\anaconda3\\lib\\site-packages\\pandas\\core\\internals\\managers.py\u001b[0m in \u001b[0;36mastype\u001b[1;34m(self, dtype, copy, errors)\u001b[0m\n\u001b[0;32m    629\u001b[0m         \u001b[0mself\u001b[0m\u001b[1;33m,\u001b[0m \u001b[0mdtype\u001b[0m\u001b[1;33m,\u001b[0m \u001b[0mcopy\u001b[0m\u001b[1;33m:\u001b[0m \u001b[0mbool\u001b[0m \u001b[1;33m=\u001b[0m \u001b[1;32mFalse\u001b[0m\u001b[1;33m,\u001b[0m \u001b[0merrors\u001b[0m\u001b[1;33m:\u001b[0m \u001b[0mstr\u001b[0m \u001b[1;33m=\u001b[0m \u001b[1;34m\"raise\"\u001b[0m\u001b[1;33m\u001b[0m\u001b[1;33m\u001b[0m\u001b[0m\n\u001b[0;32m    630\u001b[0m     ) -> \"BlockManager\":\n\u001b[1;32m--> 631\u001b[1;33m         \u001b[1;32mreturn\u001b[0m \u001b[0mself\u001b[0m\u001b[1;33m.\u001b[0m\u001b[0mapply\u001b[0m\u001b[1;33m(\u001b[0m\u001b[1;34m\"astype\"\u001b[0m\u001b[1;33m,\u001b[0m \u001b[0mdtype\u001b[0m\u001b[1;33m=\u001b[0m\u001b[0mdtype\u001b[0m\u001b[1;33m,\u001b[0m \u001b[0mcopy\u001b[0m\u001b[1;33m=\u001b[0m\u001b[0mcopy\u001b[0m\u001b[1;33m,\u001b[0m \u001b[0merrors\u001b[0m\u001b[1;33m=\u001b[0m\u001b[0merrors\u001b[0m\u001b[1;33m)\u001b[0m\u001b[1;33m\u001b[0m\u001b[1;33m\u001b[0m\u001b[0m\n\u001b[0m\u001b[0;32m    632\u001b[0m \u001b[1;33m\u001b[0m\u001b[0m\n\u001b[0;32m    633\u001b[0m     def convert(\n",
      "\u001b[1;32m~\\anaconda3\\lib\\site-packages\\pandas\\core\\internals\\managers.py\u001b[0m in \u001b[0;36mapply\u001b[1;34m(self, f, align_keys, ignore_failures, **kwargs)\u001b[0m\n\u001b[0;32m    425\u001b[0m                     \u001b[0mapplied\u001b[0m \u001b[1;33m=\u001b[0m \u001b[0mb\u001b[0m\u001b[1;33m.\u001b[0m\u001b[0mapply\u001b[0m\u001b[1;33m(\u001b[0m\u001b[0mf\u001b[0m\u001b[1;33m,\u001b[0m \u001b[1;33m**\u001b[0m\u001b[0mkwargs\u001b[0m\u001b[1;33m)\u001b[0m\u001b[1;33m\u001b[0m\u001b[1;33m\u001b[0m\u001b[0m\n\u001b[0;32m    426\u001b[0m                 \u001b[1;32melse\u001b[0m\u001b[1;33m:\u001b[0m\u001b[1;33m\u001b[0m\u001b[1;33m\u001b[0m\u001b[0m\n\u001b[1;32m--> 427\u001b[1;33m                     \u001b[0mapplied\u001b[0m \u001b[1;33m=\u001b[0m \u001b[0mgetattr\u001b[0m\u001b[1;33m(\u001b[0m\u001b[0mb\u001b[0m\u001b[1;33m,\u001b[0m \u001b[0mf\u001b[0m\u001b[1;33m)\u001b[0m\u001b[1;33m(\u001b[0m\u001b[1;33m**\u001b[0m\u001b[0mkwargs\u001b[0m\u001b[1;33m)\u001b[0m\u001b[1;33m\u001b[0m\u001b[1;33m\u001b[0m\u001b[0m\n\u001b[0m\u001b[0;32m    428\u001b[0m             \u001b[1;32mexcept\u001b[0m \u001b[1;33m(\u001b[0m\u001b[0mTypeError\u001b[0m\u001b[1;33m,\u001b[0m \u001b[0mNotImplementedError\u001b[0m\u001b[1;33m)\u001b[0m\u001b[1;33m:\u001b[0m\u001b[1;33m\u001b[0m\u001b[1;33m\u001b[0m\u001b[0m\n\u001b[0;32m    429\u001b[0m                 \u001b[1;32mif\u001b[0m \u001b[1;32mnot\u001b[0m \u001b[0mignore_failures\u001b[0m\u001b[1;33m:\u001b[0m\u001b[1;33m\u001b[0m\u001b[1;33m\u001b[0m\u001b[0m\n",
      "\u001b[1;32m~\\anaconda3\\lib\\site-packages\\pandas\\core\\internals\\blocks.py\u001b[0m in \u001b[0;36mastype\u001b[1;34m(self, dtype, copy, errors)\u001b[0m\n\u001b[0;32m    671\u001b[0m             \u001b[0mvals1d\u001b[0m \u001b[1;33m=\u001b[0m \u001b[0mvalues\u001b[0m\u001b[1;33m.\u001b[0m\u001b[0mravel\u001b[0m\u001b[1;33m(\u001b[0m\u001b[1;33m)\u001b[0m\u001b[1;33m\u001b[0m\u001b[1;33m\u001b[0m\u001b[0m\n\u001b[0;32m    672\u001b[0m             \u001b[1;32mtry\u001b[0m\u001b[1;33m:\u001b[0m\u001b[1;33m\u001b[0m\u001b[1;33m\u001b[0m\u001b[0m\n\u001b[1;32m--> 673\u001b[1;33m                 \u001b[0mvalues\u001b[0m \u001b[1;33m=\u001b[0m \u001b[0mastype_nansafe\u001b[0m\u001b[1;33m(\u001b[0m\u001b[0mvals1d\u001b[0m\u001b[1;33m,\u001b[0m \u001b[0mdtype\u001b[0m\u001b[1;33m,\u001b[0m \u001b[0mcopy\u001b[0m\u001b[1;33m=\u001b[0m\u001b[1;32mTrue\u001b[0m\u001b[1;33m)\u001b[0m\u001b[1;33m\u001b[0m\u001b[1;33m\u001b[0m\u001b[0m\n\u001b[0m\u001b[0;32m    674\u001b[0m             \u001b[1;32mexcept\u001b[0m \u001b[1;33m(\u001b[0m\u001b[0mValueError\u001b[0m\u001b[1;33m,\u001b[0m \u001b[0mTypeError\u001b[0m\u001b[1;33m)\u001b[0m\u001b[1;33m:\u001b[0m\u001b[1;33m\u001b[0m\u001b[1;33m\u001b[0m\u001b[0m\n\u001b[0;32m    675\u001b[0m                 \u001b[1;31m# e.g. astype_nansafe can fail on object-dtype of strings\u001b[0m\u001b[1;33m\u001b[0m\u001b[1;33m\u001b[0m\u001b[1;33m\u001b[0m\u001b[0m\n",
      "\u001b[1;32m~\\anaconda3\\lib\\site-packages\\pandas\\core\\dtypes\\cast.py\u001b[0m in \u001b[0;36mastype_nansafe\u001b[1;34m(arr, dtype, copy, skipna)\u001b[0m\n\u001b[0;32m   1072\u001b[0m         \u001b[1;31m# work around NumPy brokenness, #1987\u001b[0m\u001b[1;33m\u001b[0m\u001b[1;33m\u001b[0m\u001b[1;33m\u001b[0m\u001b[0m\n\u001b[0;32m   1073\u001b[0m         \u001b[1;32mif\u001b[0m \u001b[0mnp\u001b[0m\u001b[1;33m.\u001b[0m\u001b[0missubdtype\u001b[0m\u001b[1;33m(\u001b[0m\u001b[0mdtype\u001b[0m\u001b[1;33m.\u001b[0m\u001b[0mtype\u001b[0m\u001b[1;33m,\u001b[0m \u001b[0mnp\u001b[0m\u001b[1;33m.\u001b[0m\u001b[0minteger\u001b[0m\u001b[1;33m)\u001b[0m\u001b[1;33m:\u001b[0m\u001b[1;33m\u001b[0m\u001b[1;33m\u001b[0m\u001b[0m\n\u001b[1;32m-> 1074\u001b[1;33m             \u001b[1;32mreturn\u001b[0m \u001b[0mlib\u001b[0m\u001b[1;33m.\u001b[0m\u001b[0mastype_intsafe\u001b[0m\u001b[1;33m(\u001b[0m\u001b[0marr\u001b[0m\u001b[1;33m.\u001b[0m\u001b[0mravel\u001b[0m\u001b[1;33m(\u001b[0m\u001b[1;33m)\u001b[0m\u001b[1;33m,\u001b[0m \u001b[0mdtype\u001b[0m\u001b[1;33m)\u001b[0m\u001b[1;33m.\u001b[0m\u001b[0mreshape\u001b[0m\u001b[1;33m(\u001b[0m\u001b[0marr\u001b[0m\u001b[1;33m.\u001b[0m\u001b[0mshape\u001b[0m\u001b[1;33m)\u001b[0m\u001b[1;33m\u001b[0m\u001b[1;33m\u001b[0m\u001b[0m\n\u001b[0m\u001b[0;32m   1075\u001b[0m \u001b[1;33m\u001b[0m\u001b[0m\n\u001b[0;32m   1076\u001b[0m         \u001b[1;31m# if we have a datetime/timedelta array of objects\u001b[0m\u001b[1;33m\u001b[0m\u001b[1;33m\u001b[0m\u001b[1;33m\u001b[0m\u001b[0m\n",
      "\u001b[1;32mpandas\\_libs\\lib.pyx\u001b[0m in \u001b[0;36mpandas._libs.lib.astype_intsafe\u001b[1;34m()\u001b[0m\n",
      "\u001b[1;31mValueError\u001b[0m: invalid literal for int() with base 10: '2A004'"
     ]
    }
   ],
   "source": [
    "# Remplacons les valeurs de la variable Geo_Code par des valers numériques correspondantes.\n",
    "data['Geo_Code']=data['Geo_Code'].astype(int)\n",
    "# La variable Geo_Code contient des lettres dans certaines valeurs.Il n'est pas possible de les convertir en entier.\n",
    "# Cette valers ne sera pas donc tiliser lors de la prediction por l'assurance."
   ]
  },
  {
   "cell_type": "code",
   "execution_count": 103,
   "id": "1d09ca40",
   "metadata": {},
   "outputs": [
    {
     "data": {
      "text/html": [
       "<div>\n",
       "<style scoped>\n",
       "    .dataframe tbody tr th:only-of-type {\n",
       "        vertical-align: middle;\n",
       "    }\n",
       "\n",
       "    .dataframe tbody tr th {\n",
       "        vertical-align: top;\n",
       "    }\n",
       "\n",
       "    .dataframe thead th {\n",
       "        text-align: right;\n",
       "    }\n",
       "</style>\n",
       "<table border=\"1\" class=\"dataframe\">\n",
       "  <thead>\n",
       "    <tr style=\"text-align: right;\">\n",
       "      <th></th>\n",
       "      <th>YearOfObservation</th>\n",
       "      <th>Insured_Period</th>\n",
       "      <th>Residential</th>\n",
       "      <th>Building_Painted</th>\n",
       "      <th>Building_Fenced</th>\n",
       "      <th>Garden</th>\n",
       "      <th>Settlement</th>\n",
       "      <th>Building Dimension</th>\n",
       "      <th>Building_Type</th>\n",
       "      <th>Date_of_Occupancy</th>\n",
       "      <th>NumberOfWindows</th>\n",
       "      <th>Claim</th>\n",
       "    </tr>\n",
       "  </thead>\n",
       "  <tbody>\n",
       "    <tr>\n",
       "      <th>YearOfObservation</th>\n",
       "      <td>1.000000</td>\n",
       "      <td>0.031436</td>\n",
       "      <td>-0.034287</td>\n",
       "      <td>0.062154</td>\n",
       "      <td>-0.112921</td>\n",
       "      <td>-0.112771</td>\n",
       "      <td>-0.112771</td>\n",
       "      <td>0.007467</td>\n",
       "      <td>0.007258</td>\n",
       "      <td>-0.027737</td>\n",
       "      <td>0.094603</td>\n",
       "      <td>-0.017600</td>\n",
       "    </tr>\n",
       "    <tr>\n",
       "      <th>Insured_Period</th>\n",
       "      <td>0.031436</td>\n",
       "      <td>1.000000</td>\n",
       "      <td>-0.043441</td>\n",
       "      <td>-0.012341</td>\n",
       "      <td>0.009032</td>\n",
       "      <td>0.008923</td>\n",
       "      <td>0.008923</td>\n",
       "      <td>-0.005724</td>\n",
       "      <td>-0.004463</td>\n",
       "      <td>-0.001332</td>\n",
       "      <td>-0.005126</td>\n",
       "      <td>0.101631</td>\n",
       "    </tr>\n",
       "    <tr>\n",
       "      <th>Residential</th>\n",
       "      <td>-0.034287</td>\n",
       "      <td>-0.043441</td>\n",
       "      <td>1.000000</td>\n",
       "      <td>-0.025969</td>\n",
       "      <td>-0.118547</td>\n",
       "      <td>-0.118352</td>\n",
       "      <td>-0.118352</td>\n",
       "      <td>0.069934</td>\n",
       "      <td>0.318112</td>\n",
       "      <td>-0.039521</td>\n",
       "      <td>0.164157</td>\n",
       "      <td>0.066630</td>\n",
       "    </tr>\n",
       "    <tr>\n",
       "      <th>Building_Painted</th>\n",
       "      <td>0.062154</td>\n",
       "      <td>-0.012341</td>\n",
       "      <td>-0.025969</td>\n",
       "      <td>1.000000</td>\n",
       "      <td>-0.630711</td>\n",
       "      <td>-0.630907</td>\n",
       "      <td>-0.630907</td>\n",
       "      <td>0.093026</td>\n",
       "      <td>-0.041331</td>\n",
       "      <td>-0.098687</td>\n",
       "      <td>0.533729</td>\n",
       "      <td>0.036131</td>\n",
       "    </tr>\n",
       "    <tr>\n",
       "      <th>Building_Fenced</th>\n",
       "      <td>-0.112921</td>\n",
       "      <td>0.009032</td>\n",
       "      <td>-0.118547</td>\n",
       "      <td>-0.630711</td>\n",
       "      <td>1.000000</td>\n",
       "      <td>0.999691</td>\n",
       "      <td>0.999691</td>\n",
       "      <td>-0.117076</td>\n",
       "      <td>-0.043149</td>\n",
       "      <td>0.176156</td>\n",
       "      <td>-0.847600</td>\n",
       "      <td>-0.049142</td>\n",
       "    </tr>\n",
       "    <tr>\n",
       "      <th>Garden</th>\n",
       "      <td>-0.112771</td>\n",
       "      <td>0.008923</td>\n",
       "      <td>-0.118352</td>\n",
       "      <td>-0.630907</td>\n",
       "      <td>0.999691</td>\n",
       "      <td>1.000000</td>\n",
       "      <td>1.000000</td>\n",
       "      <td>-0.117022</td>\n",
       "      <td>-0.043095</td>\n",
       "      <td>0.176070</td>\n",
       "      <td>-0.848547</td>\n",
       "      <td>-0.049704</td>\n",
       "    </tr>\n",
       "    <tr>\n",
       "      <th>Settlement</th>\n",
       "      <td>-0.112771</td>\n",
       "      <td>0.008923</td>\n",
       "      <td>-0.118352</td>\n",
       "      <td>-0.630907</td>\n",
       "      <td>0.999691</td>\n",
       "      <td>1.000000</td>\n",
       "      <td>1.000000</td>\n",
       "      <td>-0.117022</td>\n",
       "      <td>-0.043095</td>\n",
       "      <td>0.176070</td>\n",
       "      <td>-0.848547</td>\n",
       "      <td>-0.049704</td>\n",
       "    </tr>\n",
       "    <tr>\n",
       "      <th>Building Dimension</th>\n",
       "      <td>0.007467</td>\n",
       "      <td>-0.005724</td>\n",
       "      <td>0.069934</td>\n",
       "      <td>0.093026</td>\n",
       "      <td>-0.117076</td>\n",
       "      <td>-0.117022</td>\n",
       "      <td>-0.117022</td>\n",
       "      <td>1.000000</td>\n",
       "      <td>0.017592</td>\n",
       "      <td>0.207313</td>\n",
       "      <td>0.280696</td>\n",
       "      <td>0.298525</td>\n",
       "    </tr>\n",
       "    <tr>\n",
       "      <th>Building_Type</th>\n",
       "      <td>0.007258</td>\n",
       "      <td>-0.004463</td>\n",
       "      <td>0.318112</td>\n",
       "      <td>-0.041331</td>\n",
       "      <td>-0.043149</td>\n",
       "      <td>-0.043095</td>\n",
       "      <td>-0.043095</td>\n",
       "      <td>0.017592</td>\n",
       "      <td>1.000000</td>\n",
       "      <td>-0.149504</td>\n",
       "      <td>0.140838</td>\n",
       "      <td>0.114202</td>\n",
       "    </tr>\n",
       "    <tr>\n",
       "      <th>Date_of_Occupancy</th>\n",
       "      <td>-0.027737</td>\n",
       "      <td>-0.001332</td>\n",
       "      <td>-0.039521</td>\n",
       "      <td>-0.098687</td>\n",
       "      <td>0.176156</td>\n",
       "      <td>0.176070</td>\n",
       "      <td>0.176070</td>\n",
       "      <td>0.207313</td>\n",
       "      <td>-0.149504</td>\n",
       "      <td>1.000000</td>\n",
       "      <td>-0.158840</td>\n",
       "      <td>0.018604</td>\n",
       "    </tr>\n",
       "    <tr>\n",
       "      <th>NumberOfWindows</th>\n",
       "      <td>0.094603</td>\n",
       "      <td>-0.005126</td>\n",
       "      <td>0.164157</td>\n",
       "      <td>0.533729</td>\n",
       "      <td>-0.847600</td>\n",
       "      <td>-0.848547</td>\n",
       "      <td>-0.848547</td>\n",
       "      <td>0.280696</td>\n",
       "      <td>0.140838</td>\n",
       "      <td>-0.158840</td>\n",
       "      <td>1.000000</td>\n",
       "      <td>0.141423</td>\n",
       "    </tr>\n",
       "    <tr>\n",
       "      <th>Claim</th>\n",
       "      <td>-0.017600</td>\n",
       "      <td>0.101631</td>\n",
       "      <td>0.066630</td>\n",
       "      <td>0.036131</td>\n",
       "      <td>-0.049142</td>\n",
       "      <td>-0.049704</td>\n",
       "      <td>-0.049704</td>\n",
       "      <td>0.298525</td>\n",
       "      <td>0.114202</td>\n",
       "      <td>0.018604</td>\n",
       "      <td>0.141423</td>\n",
       "      <td>1.000000</td>\n",
       "    </tr>\n",
       "  </tbody>\n",
       "</table>\n",
       "</div>"
      ],
      "text/plain": [
       "                    YearOfObservation  Insured_Period  Residential  \\\n",
       "YearOfObservation            1.000000        0.031436    -0.034287   \n",
       "Insured_Period               0.031436        1.000000    -0.043441   \n",
       "Residential                 -0.034287       -0.043441     1.000000   \n",
       "Building_Painted             0.062154       -0.012341    -0.025969   \n",
       "Building_Fenced             -0.112921        0.009032    -0.118547   \n",
       "Garden                      -0.112771        0.008923    -0.118352   \n",
       "Settlement                  -0.112771        0.008923    -0.118352   \n",
       "Building Dimension           0.007467       -0.005724     0.069934   \n",
       "Building_Type                0.007258       -0.004463     0.318112   \n",
       "Date_of_Occupancy           -0.027737       -0.001332    -0.039521   \n",
       "NumberOfWindows              0.094603       -0.005126     0.164157   \n",
       "Claim                       -0.017600        0.101631     0.066630   \n",
       "\n",
       "                    Building_Painted  Building_Fenced    Garden  Settlement  \\\n",
       "YearOfObservation           0.062154        -0.112921 -0.112771   -0.112771   \n",
       "Insured_Period             -0.012341         0.009032  0.008923    0.008923   \n",
       "Residential                -0.025969        -0.118547 -0.118352   -0.118352   \n",
       "Building_Painted            1.000000        -0.630711 -0.630907   -0.630907   \n",
       "Building_Fenced            -0.630711         1.000000  0.999691    0.999691   \n",
       "Garden                     -0.630907         0.999691  1.000000    1.000000   \n",
       "Settlement                 -0.630907         0.999691  1.000000    1.000000   \n",
       "Building Dimension          0.093026        -0.117076 -0.117022   -0.117022   \n",
       "Building_Type              -0.041331        -0.043149 -0.043095   -0.043095   \n",
       "Date_of_Occupancy          -0.098687         0.176156  0.176070    0.176070   \n",
       "NumberOfWindows             0.533729        -0.847600 -0.848547   -0.848547   \n",
       "Claim                       0.036131        -0.049142 -0.049704   -0.049704   \n",
       "\n",
       "                    Building Dimension  Building_Type  Date_of_Occupancy  \\\n",
       "YearOfObservation             0.007467       0.007258          -0.027737   \n",
       "Insured_Period               -0.005724      -0.004463          -0.001332   \n",
       "Residential                   0.069934       0.318112          -0.039521   \n",
       "Building_Painted              0.093026      -0.041331          -0.098687   \n",
       "Building_Fenced              -0.117076      -0.043149           0.176156   \n",
       "Garden                       -0.117022      -0.043095           0.176070   \n",
       "Settlement                   -0.117022      -0.043095           0.176070   \n",
       "Building Dimension            1.000000       0.017592           0.207313   \n",
       "Building_Type                 0.017592       1.000000          -0.149504   \n",
       "Date_of_Occupancy             0.207313      -0.149504           1.000000   \n",
       "NumberOfWindows               0.280696       0.140838          -0.158840   \n",
       "Claim                         0.298525       0.114202           0.018604   \n",
       "\n",
       "                    NumberOfWindows     Claim  \n",
       "YearOfObservation          0.094603 -0.017600  \n",
       "Insured_Period            -0.005126  0.101631  \n",
       "Residential                0.164157  0.066630  \n",
       "Building_Painted           0.533729  0.036131  \n",
       "Building_Fenced           -0.847600 -0.049142  \n",
       "Garden                    -0.848547 -0.049704  \n",
       "Settlement                -0.848547 -0.049704  \n",
       "Building Dimension         0.280696  0.298525  \n",
       "Building_Type              0.140838  0.114202  \n",
       "Date_of_Occupancy         -0.158840  0.018604  \n",
       "NumberOfWindows            1.000000  0.141423  \n",
       "Claim                      0.141423  1.000000  "
      ]
     },
     "execution_count": 103,
     "metadata": {},
     "output_type": "execute_result"
    }
   ],
   "source": [
    "#Identifions la correlation entre les differentes variables.\n",
    "data.corr()"
   ]
  },
  {
   "cell_type": "code",
   "execution_count": 106,
   "id": "d0fc45ad",
   "metadata": {},
   "outputs": [
    {
     "data": {
      "text/html": [
       "<div>\n",
       "<style scoped>\n",
       "    .dataframe tbody tr th:only-of-type {\n",
       "        vertical-align: middle;\n",
       "    }\n",
       "\n",
       "    .dataframe tbody tr th {\n",
       "        vertical-align: top;\n",
       "    }\n",
       "\n",
       "    .dataframe thead th {\n",
       "        text-align: right;\n",
       "    }\n",
       "</style>\n",
       "<table border=\"1\" class=\"dataframe\">\n",
       "  <thead>\n",
       "    <tr style=\"text-align: right;\">\n",
       "      <th></th>\n",
       "      <th>Insured_Period</th>\n",
       "      <th>Residential</th>\n",
       "      <th>Building_Painted</th>\n",
       "      <th>Building_Fenced</th>\n",
       "      <th>Garden</th>\n",
       "      <th>Settlement</th>\n",
       "      <th>Building Dimension</th>\n",
       "      <th>Building_Type</th>\n",
       "      <th>Date_of_Occupancy</th>\n",
       "      <th>NumberOfWindows</th>\n",
       "      <th>Claim</th>\n",
       "    </tr>\n",
       "  </thead>\n",
       "  <tbody>\n",
       "    <tr>\n",
       "      <th>0</th>\n",
       "      <td>1.000000</td>\n",
       "      <td>0</td>\n",
       "      <td>0</td>\n",
       "      <td>1</td>\n",
       "      <td>1</td>\n",
       "      <td>1</td>\n",
       "      <td>290.0</td>\n",
       "      <td>1</td>\n",
       "      <td>1960.0</td>\n",
       "      <td>0</td>\n",
       "      <td>0</td>\n",
       "    </tr>\n",
       "    <tr>\n",
       "      <th>1</th>\n",
       "      <td>1.000000</td>\n",
       "      <td>0</td>\n",
       "      <td>1</td>\n",
       "      <td>0</td>\n",
       "      <td>0</td>\n",
       "      <td>0</td>\n",
       "      <td>490.0</td>\n",
       "      <td>1</td>\n",
       "      <td>1850.0</td>\n",
       "      <td>4</td>\n",
       "      <td>0</td>\n",
       "    </tr>\n",
       "    <tr>\n",
       "      <th>2</th>\n",
       "      <td>1.000000</td>\n",
       "      <td>0</td>\n",
       "      <td>0</td>\n",
       "      <td>1</td>\n",
       "      <td>1</td>\n",
       "      <td>1</td>\n",
       "      <td>595.0</td>\n",
       "      <td>1</td>\n",
       "      <td>1960.0</td>\n",
       "      <td>0</td>\n",
       "      <td>0</td>\n",
       "    </tr>\n",
       "    <tr>\n",
       "      <th>3</th>\n",
       "      <td>1.000000</td>\n",
       "      <td>0</td>\n",
       "      <td>1</td>\n",
       "      <td>1</td>\n",
       "      <td>1</td>\n",
       "      <td>1</td>\n",
       "      <td>2840.0</td>\n",
       "      <td>1</td>\n",
       "      <td>1960.0</td>\n",
       "      <td>0</td>\n",
       "      <td>0</td>\n",
       "    </tr>\n",
       "    <tr>\n",
       "      <th>4</th>\n",
       "      <td>1.000000</td>\n",
       "      <td>0</td>\n",
       "      <td>1</td>\n",
       "      <td>0</td>\n",
       "      <td>0</td>\n",
       "      <td>0</td>\n",
       "      <td>680.0</td>\n",
       "      <td>1</td>\n",
       "      <td>1800.0</td>\n",
       "      <td>3</td>\n",
       "      <td>0</td>\n",
       "    </tr>\n",
       "    <tr>\n",
       "      <th>...</th>\n",
       "      <td>...</td>\n",
       "      <td>...</td>\n",
       "      <td>...</td>\n",
       "      <td>...</td>\n",
       "      <td>...</td>\n",
       "      <td>...</td>\n",
       "      <td>...</td>\n",
       "      <td>...</td>\n",
       "      <td>...</td>\n",
       "      <td>...</td>\n",
       "      <td>...</td>\n",
       "    </tr>\n",
       "    <tr>\n",
       "      <th>7053</th>\n",
       "      <td>0.153425</td>\n",
       "      <td>0</td>\n",
       "      <td>1</td>\n",
       "      <td>0</td>\n",
       "      <td>0</td>\n",
       "      <td>0</td>\n",
       "      <td>2444.0</td>\n",
       "      <td>3</td>\n",
       "      <td>1985.0</td>\n",
       "      <td>3</td>\n",
       "      <td>0</td>\n",
       "    </tr>\n",
       "    <tr>\n",
       "      <th>7054</th>\n",
       "      <td>1.000000</td>\n",
       "      <td>0</td>\n",
       "      <td>0</td>\n",
       "      <td>1</td>\n",
       "      <td>1</td>\n",
       "      <td>1</td>\n",
       "      <td>1017.0</td>\n",
       "      <td>3</td>\n",
       "      <td>1980.0</td>\n",
       "      <td>0</td>\n",
       "      <td>0</td>\n",
       "    </tr>\n",
       "    <tr>\n",
       "      <th>7055</th>\n",
       "      <td>1.000000</td>\n",
       "      <td>0</td>\n",
       "      <td>0</td>\n",
       "      <td>1</td>\n",
       "      <td>1</td>\n",
       "      <td>1</td>\n",
       "      <td>1017.0</td>\n",
       "      <td>3</td>\n",
       "      <td>1980.0</td>\n",
       "      <td>0</td>\n",
       "      <td>0</td>\n",
       "    </tr>\n",
       "    <tr>\n",
       "      <th>7056</th>\n",
       "      <td>1.000000</td>\n",
       "      <td>0</td>\n",
       "      <td>0</td>\n",
       "      <td>1</td>\n",
       "      <td>1</td>\n",
       "      <td>1</td>\n",
       "      <td>400.0</td>\n",
       "      <td>3</td>\n",
       "      <td>1960.0</td>\n",
       "      <td>0</td>\n",
       "      <td>0</td>\n",
       "    </tr>\n",
       "    <tr>\n",
       "      <th>7057</th>\n",
       "      <td>1.000000</td>\n",
       "      <td>0</td>\n",
       "      <td>0</td>\n",
       "      <td>1</td>\n",
       "      <td>1</td>\n",
       "      <td>1</td>\n",
       "      <td>2732.0</td>\n",
       "      <td>3</td>\n",
       "      <td>1980.0</td>\n",
       "      <td>0</td>\n",
       "      <td>0</td>\n",
       "    </tr>\n",
       "  </tbody>\n",
       "</table>\n",
       "<p>6543 rows × 11 columns</p>\n",
       "</div>"
      ],
      "text/plain": [
       "      Insured_Period  Residential  Building_Painted  Building_Fenced  Garden  \\\n",
       "0           1.000000            0                 0                1       1   \n",
       "1           1.000000            0                 1                0       0   \n",
       "2           1.000000            0                 0                1       1   \n",
       "3           1.000000            0                 1                1       1   \n",
       "4           1.000000            0                 1                0       0   \n",
       "...              ...          ...               ...              ...     ...   \n",
       "7053        0.153425            0                 1                0       0   \n",
       "7054        1.000000            0                 0                1       1   \n",
       "7055        1.000000            0                 0                1       1   \n",
       "7056        1.000000            0                 0                1       1   \n",
       "7057        1.000000            0                 0                1       1   \n",
       "\n",
       "      Settlement  Building Dimension  Building_Type  Date_of_Occupancy  \\\n",
       "0              1               290.0              1             1960.0   \n",
       "1              0               490.0              1             1850.0   \n",
       "2              1               595.0              1             1960.0   \n",
       "3              1              2840.0              1             1960.0   \n",
       "4              0               680.0              1             1800.0   \n",
       "...          ...                 ...            ...                ...   \n",
       "7053           0              2444.0              3             1985.0   \n",
       "7054           1              1017.0              3             1980.0   \n",
       "7055           1              1017.0              3             1980.0   \n",
       "7056           1               400.0              3             1960.0   \n",
       "7057           1              2732.0              3             1980.0   \n",
       "\n",
       "      NumberOfWindows  Claim  \n",
       "0                   0      0  \n",
       "1                   4      0  \n",
       "2                   0      0  \n",
       "3                   0      0  \n",
       "4                   3      0  \n",
       "...               ...    ...  \n",
       "7053                3      0  \n",
       "7054                0      0  \n",
       "7055                0      0  \n",
       "7056                0      0  \n",
       "7057                0      0  \n",
       "\n",
       "[6543 rows x 11 columns]"
      ]
     },
     "execution_count": 106,
     "metadata": {},
     "output_type": "execute_result"
    }
   ],
   "source": [
    "# Assemblons l'ensemble des variables qui seront utilisées lors de la construction du modèle.\n",
    "data_user=data.drop(['Customer Id', 'YearOfObservation','Geo_Code'],axis=1)\n",
    "data_user\n"
   ]
  },
  {
   "cell_type": "code",
   "execution_count": 147,
   "id": "4df91425",
   "metadata": {},
   "outputs": [],
   "source": [
    "# Preparons notre base de donnée pour entrainer les differents modèles.\n",
    "x=data_user.drop(['Claim'],axis=1)\n",
    "y=data_user['Claim']"
   ]
  },
  {
   "cell_type": "code",
   "execution_count": 149,
   "id": "b2112546",
   "metadata": {},
   "outputs": [],
   "source": [
    "#Partageons la base de données en deux parties.\n",
    "x_train,x_val,y_train,y_val=train_test_split(x,y,test_size=0.2,random_state=1)"
   ]
  },
  {
   "cell_type": "markdown",
   "id": "8f1d2513",
   "metadata": {},
   "source": [
    "#### Encodage des données du testset."
   ]
  },
  {
   "cell_type": "code",
   "execution_count": 110,
   "id": "f144dfda",
   "metadata": {},
   "outputs": [],
   "source": [
    "# importons la base de données d testset\n",
    "data_test=pd.read_csv('test_data.csv')\n",
    "\n",
    "# Encodage de la variable Building_Painted\n",
    "le=LabelEncoder()\n",
    "data_test['Building_Painted']=le.fit_transform(data_test['Building_Painted'])\n",
    "\n",
    "# Encodage de la variable Building_Fenced\n",
    "le=LabelEncoder()\n",
    "data_test['Building_Fenced']=le.fit_transform(data_test['Building_Fenced'])\n",
    "\n",
    "\n",
    "# Encodage de la variable Garden\n",
    "le=LabelEncoder()\n",
    "data_test['Garden']=le.fit_transform(data_test['Garden'])\n",
    "\n",
    "# Encodage de la variable Settlement\n",
    "le=LabelEncoder()\n",
    "data_test['Settlement']=le.fit_transform(data_test['Settlement'])\n",
    "\n",
    "# Remplacons les valeurs de la variable NumberOfWindows par des valers numériques correspondantes.\n",
    "data_test['NumberOfWindows']=data_test['NumberOfWindows'].replace(['   .', '4', '3', '2', '5', '>=10', '6', '7', '9', '8', '1'],[0,4,3,2,5,10,6,7,9,8,1])"
   ]
  },
  {
   "cell_type": "code",
   "execution_count": 111,
   "id": "3a557028",
   "metadata": {},
   "outputs": [
    {
     "data": {
      "text/html": [
       "<div>\n",
       "<style scoped>\n",
       "    .dataframe tbody tr th:only-of-type {\n",
       "        vertical-align: middle;\n",
       "    }\n",
       "\n",
       "    .dataframe tbody tr th {\n",
       "        vertical-align: top;\n",
       "    }\n",
       "\n",
       "    .dataframe thead th {\n",
       "        text-align: right;\n",
       "    }\n",
       "</style>\n",
       "<table border=\"1\" class=\"dataframe\">\n",
       "  <thead>\n",
       "    <tr style=\"text-align: right;\">\n",
       "      <th></th>\n",
       "      <th>Customer Id</th>\n",
       "      <th>YearOfObservation</th>\n",
       "      <th>Insured_Period</th>\n",
       "      <th>Residential</th>\n",
       "      <th>Building_Painted</th>\n",
       "      <th>Building_Fenced</th>\n",
       "      <th>Garden</th>\n",
       "      <th>Settlement</th>\n",
       "      <th>Building Dimension</th>\n",
       "      <th>Building_Type</th>\n",
       "      <th>Date_of_Occupancy</th>\n",
       "      <th>NumberOfWindows</th>\n",
       "      <th>Geo_Code</th>\n",
       "    </tr>\n",
       "  </thead>\n",
       "  <tbody>\n",
       "    <tr>\n",
       "      <th>0</th>\n",
       "      <td>H11920</td>\n",
       "      <td>2013</td>\n",
       "      <td>1.000000</td>\n",
       "      <td>0</td>\n",
       "      <td>1</td>\n",
       "      <td>0</td>\n",
       "      <td>0</td>\n",
       "      <td>0</td>\n",
       "      <td>300.0</td>\n",
       "      <td>1</td>\n",
       "      <td>1960.0</td>\n",
       "      <td>3</td>\n",
       "      <td>3310</td>\n",
       "    </tr>\n",
       "    <tr>\n",
       "      <th>1</th>\n",
       "      <td>H11921</td>\n",
       "      <td>2016</td>\n",
       "      <td>0.997268</td>\n",
       "      <td>0</td>\n",
       "      <td>1</td>\n",
       "      <td>0</td>\n",
       "      <td>0</td>\n",
       "      <td>0</td>\n",
       "      <td>300.0</td>\n",
       "      <td>1</td>\n",
       "      <td>1960.0</td>\n",
       "      <td>3</td>\n",
       "      <td>3310</td>\n",
       "    </tr>\n",
       "    <tr>\n",
       "      <th>2</th>\n",
       "      <td>H9805</td>\n",
       "      <td>2013</td>\n",
       "      <td>0.369863</td>\n",
       "      <td>0</td>\n",
       "      <td>1</td>\n",
       "      <td>1</td>\n",
       "      <td>1</td>\n",
       "      <td>1</td>\n",
       "      <td>790.0</td>\n",
       "      <td>1</td>\n",
       "      <td>1960.0</td>\n",
       "      <td>0</td>\n",
       "      <td>3310</td>\n",
       "    </tr>\n",
       "    <tr>\n",
       "      <th>3</th>\n",
       "      <td>H7493</td>\n",
       "      <td>2014</td>\n",
       "      <td>1.000000</td>\n",
       "      <td>0</td>\n",
       "      <td>1</td>\n",
       "      <td>0</td>\n",
       "      <td>0</td>\n",
       "      <td>0</td>\n",
       "      <td>1405.0</td>\n",
       "      <td>1</td>\n",
       "      <td>2004.0</td>\n",
       "      <td>3</td>\n",
       "      <td>3321</td>\n",
       "    </tr>\n",
       "    <tr>\n",
       "      <th>4</th>\n",
       "      <td>H7494</td>\n",
       "      <td>2016</td>\n",
       "      <td>1.000000</td>\n",
       "      <td>0</td>\n",
       "      <td>1</td>\n",
       "      <td>0</td>\n",
       "      <td>0</td>\n",
       "      <td>0</td>\n",
       "      <td>1405.0</td>\n",
       "      <td>1</td>\n",
       "      <td>2004.0</td>\n",
       "      <td>3</td>\n",
       "      <td>3321</td>\n",
       "    </tr>\n",
       "  </tbody>\n",
       "</table>\n",
       "</div>"
      ],
      "text/plain": [
       "  Customer Id  YearOfObservation  Insured_Period  Residential  \\\n",
       "0      H11920               2013        1.000000            0   \n",
       "1      H11921               2016        0.997268            0   \n",
       "2       H9805               2013        0.369863            0   \n",
       "3       H7493               2014        1.000000            0   \n",
       "4       H7494               2016        1.000000            0   \n",
       "\n",
       "   Building_Painted  Building_Fenced  Garden  Settlement  Building Dimension  \\\n",
       "0                 1                0       0           0               300.0   \n",
       "1                 1                0       0           0               300.0   \n",
       "2                 1                1       1           1               790.0   \n",
       "3                 1                0       0           0              1405.0   \n",
       "4                 1                0       0           0              1405.0   \n",
       "\n",
       "   Building_Type  Date_of_Occupancy  NumberOfWindows Geo_Code  \n",
       "0              1             1960.0                3     3310  \n",
       "1              1             1960.0                3     3310  \n",
       "2              1             1960.0                0     3310  \n",
       "3              1             2004.0                3     3321  \n",
       "4              1             2004.0                3     3321  "
      ]
     },
     "execution_count": 111,
     "metadata": {},
     "output_type": "execute_result"
    }
   ],
   "source": []
  },
  {
   "cell_type": "code",
   "execution_count": 150,
   "id": "45a9c9ef",
   "metadata": {},
   "outputs": [
    {
     "data": {
      "text/html": [
       "<div>\n",
       "<style scoped>\n",
       "    .dataframe tbody tr th:only-of-type {\n",
       "        vertical-align: middle;\n",
       "    }\n",
       "\n",
       "    .dataframe tbody tr th {\n",
       "        vertical-align: top;\n",
       "    }\n",
       "\n",
       "    .dataframe thead th {\n",
       "        text-align: right;\n",
       "    }\n",
       "</style>\n",
       "<table border=\"1\" class=\"dataframe\">\n",
       "  <thead>\n",
       "    <tr style=\"text-align: right;\">\n",
       "      <th></th>\n",
       "      <th>Insured_Period</th>\n",
       "      <th>Residential</th>\n",
       "      <th>Building_Painted</th>\n",
       "      <th>Building_Fenced</th>\n",
       "      <th>Garden</th>\n",
       "      <th>Settlement</th>\n",
       "      <th>Building Dimension</th>\n",
       "      <th>Building_Type</th>\n",
       "      <th>Date_of_Occupancy</th>\n",
       "      <th>NumberOfWindows</th>\n",
       "    </tr>\n",
       "  </thead>\n",
       "  <tbody>\n",
       "    <tr>\n",
       "      <th>6285</th>\n",
       "      <td>1.0</td>\n",
       "      <td>1</td>\n",
       "      <td>1</td>\n",
       "      <td>0</td>\n",
       "      <td>0</td>\n",
       "      <td>0</td>\n",
       "      <td>780.0</td>\n",
       "      <td>3</td>\n",
       "      <td>1950.0</td>\n",
       "      <td>1</td>\n",
       "    </tr>\n",
       "    <tr>\n",
       "      <th>1748</th>\n",
       "      <td>1.0</td>\n",
       "      <td>0</td>\n",
       "      <td>1</td>\n",
       "      <td>1</td>\n",
       "      <td>1</td>\n",
       "      <td>1</td>\n",
       "      <td>400.0</td>\n",
       "      <td>2</td>\n",
       "      <td>1960.0</td>\n",
       "      <td>0</td>\n",
       "    </tr>\n",
       "    <tr>\n",
       "      <th>5020</th>\n",
       "      <td>1.0</td>\n",
       "      <td>1</td>\n",
       "      <td>0</td>\n",
       "      <td>1</td>\n",
       "      <td>1</td>\n",
       "      <td>1</td>\n",
       "      <td>1650.0</td>\n",
       "      <td>4</td>\n",
       "      <td>1960.0</td>\n",
       "      <td>0</td>\n",
       "    </tr>\n",
       "    <tr>\n",
       "      <th>2669</th>\n",
       "      <td>1.0</td>\n",
       "      <td>0</td>\n",
       "      <td>1</td>\n",
       "      <td>0</td>\n",
       "      <td>0</td>\n",
       "      <td>0</td>\n",
       "      <td>1461.0</td>\n",
       "      <td>1</td>\n",
       "      <td>1960.0</td>\n",
       "      <td>6</td>\n",
       "    </tr>\n",
       "    <tr>\n",
       "      <th>3934</th>\n",
       "      <td>0.0</td>\n",
       "      <td>0</td>\n",
       "      <td>0</td>\n",
       "      <td>1</td>\n",
       "      <td>1</td>\n",
       "      <td>1</td>\n",
       "      <td>3473.0</td>\n",
       "      <td>2</td>\n",
       "      <td>1980.0</td>\n",
       "      <td>0</td>\n",
       "    </tr>\n",
       "    <tr>\n",
       "      <th>...</th>\n",
       "      <td>...</td>\n",
       "      <td>...</td>\n",
       "      <td>...</td>\n",
       "      <td>...</td>\n",
       "      <td>...</td>\n",
       "      <td>...</td>\n",
       "      <td>...</td>\n",
       "      <td>...</td>\n",
       "      <td>...</td>\n",
       "      <td>...</td>\n",
       "    </tr>\n",
       "    <tr>\n",
       "      <th>938</th>\n",
       "      <td>1.0</td>\n",
       "      <td>0</td>\n",
       "      <td>1</td>\n",
       "      <td>1</td>\n",
       "      <td>1</td>\n",
       "      <td>1</td>\n",
       "      <td>3600.0</td>\n",
       "      <td>1</td>\n",
       "      <td>1960.0</td>\n",
       "      <td>0</td>\n",
       "    </tr>\n",
       "    <tr>\n",
       "      <th>5620</th>\n",
       "      <td>1.0</td>\n",
       "      <td>0</td>\n",
       "      <td>1</td>\n",
       "      <td>0</td>\n",
       "      <td>0</td>\n",
       "      <td>0</td>\n",
       "      <td>200.0</td>\n",
       "      <td>2</td>\n",
       "      <td>1988.0</td>\n",
       "      <td>2</td>\n",
       "    </tr>\n",
       "    <tr>\n",
       "      <th>4245</th>\n",
       "      <td>1.0</td>\n",
       "      <td>0</td>\n",
       "      <td>1</td>\n",
       "      <td>0</td>\n",
       "      <td>0</td>\n",
       "      <td>0</td>\n",
       "      <td>450.0</td>\n",
       "      <td>2</td>\n",
       "      <td>1970.0</td>\n",
       "      <td>3</td>\n",
       "    </tr>\n",
       "    <tr>\n",
       "      <th>242</th>\n",
       "      <td>1.0</td>\n",
       "      <td>0</td>\n",
       "      <td>1</td>\n",
       "      <td>0</td>\n",
       "      <td>0</td>\n",
       "      <td>0</td>\n",
       "      <td>1370.0</td>\n",
       "      <td>4</td>\n",
       "      <td>2008.0</td>\n",
       "      <td>5</td>\n",
       "    </tr>\n",
       "    <tr>\n",
       "      <th>5584</th>\n",
       "      <td>1.0</td>\n",
       "      <td>0</td>\n",
       "      <td>1</td>\n",
       "      <td>0</td>\n",
       "      <td>0</td>\n",
       "      <td>0</td>\n",
       "      <td>450.0</td>\n",
       "      <td>1</td>\n",
       "      <td>1980.0</td>\n",
       "      <td>3</td>\n",
       "    </tr>\n",
       "  </tbody>\n",
       "</table>\n",
       "<p>5234 rows × 10 columns</p>\n",
       "</div>"
      ],
      "text/plain": [
       "      Insured_Period  Residential  Building_Painted  Building_Fenced  Garden  \\\n",
       "6285             1.0            1                 1                0       0   \n",
       "1748             1.0            0                 1                1       1   \n",
       "5020             1.0            1                 0                1       1   \n",
       "2669             1.0            0                 1                0       0   \n",
       "3934             0.0            0                 0                1       1   \n",
       "...              ...          ...               ...              ...     ...   \n",
       "938              1.0            0                 1                1       1   \n",
       "5620             1.0            0                 1                0       0   \n",
       "4245             1.0            0                 1                0       0   \n",
       "242              1.0            0                 1                0       0   \n",
       "5584             1.0            0                 1                0       0   \n",
       "\n",
       "      Settlement  Building Dimension  Building_Type  Date_of_Occupancy  \\\n",
       "6285           0               780.0              3             1950.0   \n",
       "1748           1               400.0              2             1960.0   \n",
       "5020           1              1650.0              4             1960.0   \n",
       "2669           0              1461.0              1             1960.0   \n",
       "3934           1              3473.0              2             1980.0   \n",
       "...          ...                 ...            ...                ...   \n",
       "938            1              3600.0              1             1960.0   \n",
       "5620           0               200.0              2             1988.0   \n",
       "4245           0               450.0              2             1970.0   \n",
       "242            0              1370.0              4             2008.0   \n",
       "5584           0               450.0              1             1980.0   \n",
       "\n",
       "      NumberOfWindows  \n",
       "6285                1  \n",
       "1748                0  \n",
       "5020                0  \n",
       "2669                6  \n",
       "3934                0  \n",
       "...               ...  \n",
       "938                 0  \n",
       "5620                2  \n",
       "4245                3  \n",
       "242                 5  \n",
       "5584                3  \n",
       "\n",
       "[5234 rows x 10 columns]"
      ]
     },
     "execution_count": 150,
     "metadata": {},
     "output_type": "execute_result"
    }
   ],
   "source": [
    "\n",
    "x_train"
   ]
  },
  {
   "cell_type": "code",
   "execution_count": 151,
   "id": "412ec73f",
   "metadata": {},
   "outputs": [
    {
     "data": {
      "text/plain": [
       "6285    0\n",
       "1748    0\n",
       "5020    0\n",
       "2669    0\n",
       "3934    0\n",
       "       ..\n",
       "938     0\n",
       "5620    0\n",
       "4245    0\n",
       "242     0\n",
       "5584    0\n",
       "Name: Claim, Length: 5234, dtype: int64"
      ]
     },
     "execution_count": 151,
     "metadata": {},
     "output_type": "execute_result"
    }
   ],
   "source": [
    "y_train"
   ]
  },
  {
   "cell_type": "code",
   "execution_count": 152,
   "id": "e648a621",
   "metadata": {},
   "outputs": [
    {
     "data": {
      "text/html": [
       "<div>\n",
       "<style scoped>\n",
       "    .dataframe tbody tr th:only-of-type {\n",
       "        vertical-align: middle;\n",
       "    }\n",
       "\n",
       "    .dataframe tbody tr th {\n",
       "        vertical-align: top;\n",
       "    }\n",
       "\n",
       "    .dataframe thead th {\n",
       "        text-align: right;\n",
       "    }\n",
       "</style>\n",
       "<table border=\"1\" class=\"dataframe\">\n",
       "  <thead>\n",
       "    <tr style=\"text-align: right;\">\n",
       "      <th></th>\n",
       "      <th>Insured_Period</th>\n",
       "      <th>Residential</th>\n",
       "      <th>Building_Painted</th>\n",
       "      <th>Building_Fenced</th>\n",
       "      <th>Garden</th>\n",
       "      <th>Settlement</th>\n",
       "      <th>Building Dimension</th>\n",
       "      <th>Building_Type</th>\n",
       "      <th>Date_of_Occupancy</th>\n",
       "      <th>NumberOfWindows</th>\n",
       "    </tr>\n",
       "  </thead>\n",
       "  <tbody>\n",
       "    <tr>\n",
       "      <th>4208</th>\n",
       "      <td>1.0</td>\n",
       "      <td>1</td>\n",
       "      <td>1</td>\n",
       "      <td>0</td>\n",
       "      <td>0</td>\n",
       "      <td>0</td>\n",
       "      <td>750.0</td>\n",
       "      <td>2</td>\n",
       "      <td>2008.0</td>\n",
       "      <td>3</td>\n",
       "    </tr>\n",
       "    <tr>\n",
       "      <th>2416</th>\n",
       "      <td>1.0</td>\n",
       "      <td>0</td>\n",
       "      <td>0</td>\n",
       "      <td>1</td>\n",
       "      <td>1</td>\n",
       "      <td>1</td>\n",
       "      <td>600.0</td>\n",
       "      <td>2</td>\n",
       "      <td>1988.0</td>\n",
       "      <td>0</td>\n",
       "    </tr>\n",
       "    <tr>\n",
       "      <th>6053</th>\n",
       "      <td>1.0</td>\n",
       "      <td>0</td>\n",
       "      <td>1</td>\n",
       "      <td>1</td>\n",
       "      <td>1</td>\n",
       "      <td>1</td>\n",
       "      <td>2880.0</td>\n",
       "      <td>1</td>\n",
       "      <td>1980.0</td>\n",
       "      <td>0</td>\n",
       "    </tr>\n",
       "    <tr>\n",
       "      <th>3556</th>\n",
       "      <td>1.0</td>\n",
       "      <td>1</td>\n",
       "      <td>1</td>\n",
       "      <td>0</td>\n",
       "      <td>0</td>\n",
       "      <td>0</td>\n",
       "      <td>770.0</td>\n",
       "      <td>2</td>\n",
       "      <td>1960.0</td>\n",
       "      <td>4</td>\n",
       "    </tr>\n",
       "    <tr>\n",
       "      <th>5780</th>\n",
       "      <td>1.0</td>\n",
       "      <td>0</td>\n",
       "      <td>1</td>\n",
       "      <td>0</td>\n",
       "      <td>0</td>\n",
       "      <td>0</td>\n",
       "      <td>915.0</td>\n",
       "      <td>2</td>\n",
       "      <td>1988.0</td>\n",
       "      <td>2</td>\n",
       "    </tr>\n",
       "    <tr>\n",
       "      <th>...</th>\n",
       "      <td>...</td>\n",
       "      <td>...</td>\n",
       "      <td>...</td>\n",
       "      <td>...</td>\n",
       "      <td>...</td>\n",
       "      <td>...</td>\n",
       "      <td>...</td>\n",
       "      <td>...</td>\n",
       "      <td>...</td>\n",
       "      <td>...</td>\n",
       "    </tr>\n",
       "    <tr>\n",
       "      <th>3719</th>\n",
       "      <td>1.0</td>\n",
       "      <td>0</td>\n",
       "      <td>1</td>\n",
       "      <td>0</td>\n",
       "      <td>0</td>\n",
       "      <td>0</td>\n",
       "      <td>3147.0</td>\n",
       "      <td>2</td>\n",
       "      <td>1960.0</td>\n",
       "      <td>5</td>\n",
       "    </tr>\n",
       "    <tr>\n",
       "      <th>6844</th>\n",
       "      <td>1.0</td>\n",
       "      <td>1</td>\n",
       "      <td>1</td>\n",
       "      <td>0</td>\n",
       "      <td>0</td>\n",
       "      <td>0</td>\n",
       "      <td>2700.0</td>\n",
       "      <td>3</td>\n",
       "      <td>1965.0</td>\n",
       "      <td>7</td>\n",
       "    </tr>\n",
       "    <tr>\n",
       "      <th>2149</th>\n",
       "      <td>1.0</td>\n",
       "      <td>1</td>\n",
       "      <td>1</td>\n",
       "      <td>0</td>\n",
       "      <td>0</td>\n",
       "      <td>0</td>\n",
       "      <td>790.0</td>\n",
       "      <td>2</td>\n",
       "      <td>1991.0</td>\n",
       "      <td>3</td>\n",
       "    </tr>\n",
       "    <tr>\n",
       "      <th>3558</th>\n",
       "      <td>1.0</td>\n",
       "      <td>0</td>\n",
       "      <td>0</td>\n",
       "      <td>1</td>\n",
       "      <td>1</td>\n",
       "      <td>1</td>\n",
       "      <td>3500.0</td>\n",
       "      <td>2</td>\n",
       "      <td>1988.0</td>\n",
       "      <td>0</td>\n",
       "    </tr>\n",
       "    <tr>\n",
       "      <th>1871</th>\n",
       "      <td>1.0</td>\n",
       "      <td>0</td>\n",
       "      <td>0</td>\n",
       "      <td>1</td>\n",
       "      <td>1</td>\n",
       "      <td>1</td>\n",
       "      <td>17800.0</td>\n",
       "      <td>2</td>\n",
       "      <td>1980.0</td>\n",
       "      <td>0</td>\n",
       "    </tr>\n",
       "  </tbody>\n",
       "</table>\n",
       "<p>1309 rows × 10 columns</p>\n",
       "</div>"
      ],
      "text/plain": [
       "      Insured_Period  Residential  Building_Painted  Building_Fenced  Garden  \\\n",
       "4208             1.0            1                 1                0       0   \n",
       "2416             1.0            0                 0                1       1   \n",
       "6053             1.0            0                 1                1       1   \n",
       "3556             1.0            1                 1                0       0   \n",
       "5780             1.0            0                 1                0       0   \n",
       "...              ...          ...               ...              ...     ...   \n",
       "3719             1.0            0                 1                0       0   \n",
       "6844             1.0            1                 1                0       0   \n",
       "2149             1.0            1                 1                0       0   \n",
       "3558             1.0            0                 0                1       1   \n",
       "1871             1.0            0                 0                1       1   \n",
       "\n",
       "      Settlement  Building Dimension  Building_Type  Date_of_Occupancy  \\\n",
       "4208           0               750.0              2             2008.0   \n",
       "2416           1               600.0              2             1988.0   \n",
       "6053           1              2880.0              1             1980.0   \n",
       "3556           0               770.0              2             1960.0   \n",
       "5780           0               915.0              2             1988.0   \n",
       "...          ...                 ...            ...                ...   \n",
       "3719           0              3147.0              2             1960.0   \n",
       "6844           0              2700.0              3             1965.0   \n",
       "2149           0               790.0              2             1991.0   \n",
       "3558           1              3500.0              2             1988.0   \n",
       "1871           1             17800.0              2             1980.0   \n",
       "\n",
       "      NumberOfWindows  \n",
       "4208                3  \n",
       "2416                0  \n",
       "6053                0  \n",
       "3556                4  \n",
       "5780                2  \n",
       "...               ...  \n",
       "3719                5  \n",
       "6844                7  \n",
       "2149                3  \n",
       "3558                0  \n",
       "1871                0  \n",
       "\n",
       "[1309 rows x 10 columns]"
      ]
     },
     "execution_count": 152,
     "metadata": {},
     "output_type": "execute_result"
    }
   ],
   "source": [
    "x_val"
   ]
  },
  {
   "cell_type": "markdown",
   "id": "01b88492",
   "metadata": {},
   "source": [
    "#### Entrainement et evaluation des algorithmes utilisés."
   ]
  },
  {
   "cell_type": "code",
   "execution_count": 220,
   "id": "b70abbe1",
   "metadata": {},
   "outputs": [],
   "source": [
    "# Definissons la fonction evaluation_model\n",
    "\n",
    "\n",
    "def evaluation_model(model):\n",
    "    \n",
    "    \n",
    "    model.fit(x_train,y_train)\n",
    "    \n",
    "    y_pred=model.predict(x_val)\n",
    "    \n",
    "    print(confusion_matrix(y_val,y_pred))\n",
    "    \n",
    "    print(classification_report(y_val,y_pred))\n",
    "    \n",
    "    N,train_score, val_score = learning_curve(model,x_train,y_train, cv=4,scoring='f1', \n",
    "                                              train_sizes=np.linspace(0.1,1,10))\n",
    "                                            \n",
    "    plt.figure(figsize=(12, 8))\n",
    "    \n",
    "    plt.plot(N,train_score.mean(axis=1), label='train score')\n",
    "    \n",
    "    plt.plot(N,val_score.mean(axis=1), label='validation score') \n",
    "    \n",
    "    plt.legend()"
   ]
  },
  {
   "cell_type": "code",
   "execution_count": 221,
   "id": "c615ab0a",
   "metadata": {},
   "outputs": [],
   "source": [
    "# Algorithmes utilisés\n",
    "SVC= SVC()\n",
    "BernoulliNB=BernoulliNB()\n",
    "LogisticRegression=LogisticRegression()\n",
    "KNeighborsClassifier=KNeighborsClassifier()\n",
    "AdaBoostClassifier=AdaBoostClassifier()"
   ]
  },
  {
   "cell_type": "code",
   "execution_count": 222,
   "id": "409097fc",
   "metadata": {},
   "outputs": [],
   "source": [
    "# Nous creons un dictionnaire qui regroupe tous les algorithmes utilisés.\n",
    "dict_of_models={\n",
    "    \n",
    "    'BernoulliNB':BernoulliNB,\n",
    "    'SVC':SVC,\n",
    "    'LogisticRegression':LogisticRegression,\n",
    "    'KNeighborsClassifier':KNeighborsClassifier,\n",
    "    'AdaBoostClassifier':AdaBoostClassifier,\n",
    "   \n",
    "}"
   ]
  },
  {
   "cell_type": "code",
   "execution_count": 223,
   "id": "c39c7d69",
   "metadata": {},
   "outputs": [
    {
     "name": "stdout",
     "output_type": "stream",
     "text": [
      "BernoulliNB\n",
      "[[1007    0]\n",
      " [ 302    0]]\n",
      "              precision    recall  f1-score   support\n",
      "\n",
      "           0       0.77      1.00      0.87      1007\n",
      "           1       0.00      0.00      0.00       302\n",
      "\n",
      "    accuracy                           0.77      1309\n",
      "   macro avg       0.38      0.50      0.43      1309\n",
      "weighted avg       0.59      0.77      0.67      1309\n",
      "\n"
     ]
    },
    {
     "name": "stderr",
     "output_type": "stream",
     "text": [
      "C:\\Users\\NEUMAN\\anaconda3\\lib\\site-packages\\sklearn\\metrics\\_classification.py:1245: UndefinedMetricWarning: Precision and F-score are ill-defined and being set to 0.0 in labels with no predicted samples. Use `zero_division` parameter to control this behavior.\n",
      "  _warn_prf(average, modifier, msg_start, len(result))\n",
      "C:\\Users\\NEUMAN\\anaconda3\\lib\\site-packages\\sklearn\\metrics\\_classification.py:1245: UndefinedMetricWarning: Precision and F-score are ill-defined and being set to 0.0 in labels with no predicted samples. Use `zero_division` parameter to control this behavior.\n",
      "  _warn_prf(average, modifier, msg_start, len(result))\n",
      "C:\\Users\\NEUMAN\\anaconda3\\lib\\site-packages\\sklearn\\metrics\\_classification.py:1245: UndefinedMetricWarning: Precision and F-score are ill-defined and being set to 0.0 in labels with no predicted samples. Use `zero_division` parameter to control this behavior.\n",
      "  _warn_prf(average, modifier, msg_start, len(result))\n"
     ]
    },
    {
     "name": "stdout",
     "output_type": "stream",
     "text": [
      "SVC\n",
      "[[982  25]\n",
      " [269  33]]\n",
      "              precision    recall  f1-score   support\n",
      "\n",
      "           0       0.78      0.98      0.87      1007\n",
      "           1       0.57      0.11      0.18       302\n",
      "\n",
      "    accuracy                           0.78      1309\n",
      "   macro avg       0.68      0.54      0.53      1309\n",
      "weighted avg       0.74      0.78      0.71      1309\n",
      "\n",
      "LogisticRegression\n",
      "[[981  26]\n",
      " [264  38]]\n",
      "              precision    recall  f1-score   support\n",
      "\n",
      "           0       0.79      0.97      0.87      1007\n",
      "           1       0.59      0.13      0.21       302\n",
      "\n",
      "    accuracy                           0.78      1309\n",
      "   macro avg       0.69      0.55      0.54      1309\n",
      "weighted avg       0.74      0.78      0.72      1309\n",
      "\n"
     ]
    },
    {
     "name": "stderr",
     "output_type": "stream",
     "text": [
      "C:\\Users\\NEUMAN\\anaconda3\\lib\\site-packages\\sklearn\\linear_model\\_logistic.py:763: ConvergenceWarning: lbfgs failed to converge (status=1):\n",
      "STOP: TOTAL NO. of ITERATIONS REACHED LIMIT.\n",
      "\n",
      "Increase the number of iterations (max_iter) or scale the data as shown in:\n",
      "    https://scikit-learn.org/stable/modules/preprocessing.html\n",
      "Please also refer to the documentation for alternative solver options:\n",
      "    https://scikit-learn.org/stable/modules/linear_model.html#logistic-regression\n",
      "  n_iter_i = _check_optimize_result(\n",
      "C:\\Users\\NEUMAN\\anaconda3\\lib\\site-packages\\sklearn\\linear_model\\_logistic.py:763: ConvergenceWarning: lbfgs failed to converge (status=1):\n",
      "STOP: TOTAL NO. of ITERATIONS REACHED LIMIT.\n",
      "\n",
      "Increase the number of iterations (max_iter) or scale the data as shown in:\n",
      "    https://scikit-learn.org/stable/modules/preprocessing.html\n",
      "Please also refer to the documentation for alternative solver options:\n",
      "    https://scikit-learn.org/stable/modules/linear_model.html#logistic-regression\n",
      "  n_iter_i = _check_optimize_result(\n",
      "C:\\Users\\NEUMAN\\anaconda3\\lib\\site-packages\\sklearn\\linear_model\\_logistic.py:763: ConvergenceWarning: lbfgs failed to converge (status=1):\n",
      "STOP: TOTAL NO. of ITERATIONS REACHED LIMIT.\n",
      "\n",
      "Increase the number of iterations (max_iter) or scale the data as shown in:\n",
      "    https://scikit-learn.org/stable/modules/preprocessing.html\n",
      "Please also refer to the documentation for alternative solver options:\n",
      "    https://scikit-learn.org/stable/modules/linear_model.html#logistic-regression\n",
      "  n_iter_i = _check_optimize_result(\n",
      "C:\\Users\\NEUMAN\\anaconda3\\lib\\site-packages\\sklearn\\linear_model\\_logistic.py:763: ConvergenceWarning: lbfgs failed to converge (status=1):\n",
      "STOP: TOTAL NO. of ITERATIONS REACHED LIMIT.\n",
      "\n",
      "Increase the number of iterations (max_iter) or scale the data as shown in:\n",
      "    https://scikit-learn.org/stable/modules/preprocessing.html\n",
      "Please also refer to the documentation for alternative solver options:\n",
      "    https://scikit-learn.org/stable/modules/linear_model.html#logistic-regression\n",
      "  n_iter_i = _check_optimize_result(\n",
      "C:\\Users\\NEUMAN\\anaconda3\\lib\\site-packages\\sklearn\\linear_model\\_logistic.py:763: ConvergenceWarning: lbfgs failed to converge (status=1):\n",
      "STOP: TOTAL NO. of ITERATIONS REACHED LIMIT.\n",
      "\n",
      "Increase the number of iterations (max_iter) or scale the data as shown in:\n",
      "    https://scikit-learn.org/stable/modules/preprocessing.html\n",
      "Please also refer to the documentation for alternative solver options:\n",
      "    https://scikit-learn.org/stable/modules/linear_model.html#logistic-regression\n",
      "  n_iter_i = _check_optimize_result(\n",
      "C:\\Users\\NEUMAN\\anaconda3\\lib\\site-packages\\sklearn\\linear_model\\_logistic.py:763: ConvergenceWarning: lbfgs failed to converge (status=1):\n",
      "STOP: TOTAL NO. of ITERATIONS REACHED LIMIT.\n",
      "\n",
      "Increase the number of iterations (max_iter) or scale the data as shown in:\n",
      "    https://scikit-learn.org/stable/modules/preprocessing.html\n",
      "Please also refer to the documentation for alternative solver options:\n",
      "    https://scikit-learn.org/stable/modules/linear_model.html#logistic-regression\n",
      "  n_iter_i = _check_optimize_result(\n",
      "C:\\Users\\NEUMAN\\anaconda3\\lib\\site-packages\\sklearn\\linear_model\\_logistic.py:763: ConvergenceWarning: lbfgs failed to converge (status=1):\n",
      "STOP: TOTAL NO. of ITERATIONS REACHED LIMIT.\n",
      "\n",
      "Increase the number of iterations (max_iter) or scale the data as shown in:\n",
      "    https://scikit-learn.org/stable/modules/preprocessing.html\n",
      "Please also refer to the documentation for alternative solver options:\n",
      "    https://scikit-learn.org/stable/modules/linear_model.html#logistic-regression\n",
      "  n_iter_i = _check_optimize_result(\n",
      "C:\\Users\\NEUMAN\\anaconda3\\lib\\site-packages\\sklearn\\linear_model\\_logistic.py:763: ConvergenceWarning: lbfgs failed to converge (status=1):\n",
      "STOP: TOTAL NO. of ITERATIONS REACHED LIMIT.\n",
      "\n",
      "Increase the number of iterations (max_iter) or scale the data as shown in:\n",
      "    https://scikit-learn.org/stable/modules/preprocessing.html\n",
      "Please also refer to the documentation for alternative solver options:\n",
      "    https://scikit-learn.org/stable/modules/linear_model.html#logistic-regression\n",
      "  n_iter_i = _check_optimize_result(\n",
      "C:\\Users\\NEUMAN\\anaconda3\\lib\\site-packages\\sklearn\\linear_model\\_logistic.py:763: ConvergenceWarning: lbfgs failed to converge (status=1):\n",
      "STOP: TOTAL NO. of ITERATIONS REACHED LIMIT.\n",
      "\n",
      "Increase the number of iterations (max_iter) or scale the data as shown in:\n",
      "    https://scikit-learn.org/stable/modules/preprocessing.html\n",
      "Please also refer to the documentation for alternative solver options:\n",
      "    https://scikit-learn.org/stable/modules/linear_model.html#logistic-regression\n",
      "  n_iter_i = _check_optimize_result(\n",
      "C:\\Users\\NEUMAN\\anaconda3\\lib\\site-packages\\sklearn\\linear_model\\_logistic.py:763: ConvergenceWarning: lbfgs failed to converge (status=1):\n",
      "STOP: TOTAL NO. of ITERATIONS REACHED LIMIT.\n",
      "\n",
      "Increase the number of iterations (max_iter) or scale the data as shown in:\n",
      "    https://scikit-learn.org/stable/modules/preprocessing.html\n",
      "Please also refer to the documentation for alternative solver options:\n",
      "    https://scikit-learn.org/stable/modules/linear_model.html#logistic-regression\n",
      "  n_iter_i = _check_optimize_result(\n",
      "C:\\Users\\NEUMAN\\anaconda3\\lib\\site-packages\\sklearn\\linear_model\\_logistic.py:763: ConvergenceWarning: lbfgs failed to converge (status=1):\n",
      "STOP: TOTAL NO. of ITERATIONS REACHED LIMIT.\n",
      "\n",
      "Increase the number of iterations (max_iter) or scale the data as shown in:\n",
      "    https://scikit-learn.org/stable/modules/preprocessing.html\n",
      "Please also refer to the documentation for alternative solver options:\n",
      "    https://scikit-learn.org/stable/modules/linear_model.html#logistic-regression\n",
      "  n_iter_i = _check_optimize_result(\n",
      "C:\\Users\\NEUMAN\\anaconda3\\lib\\site-packages\\sklearn\\linear_model\\_logistic.py:763: ConvergenceWarning: lbfgs failed to converge (status=1):\n",
      "STOP: TOTAL NO. of ITERATIONS REACHED LIMIT.\n",
      "\n",
      "Increase the number of iterations (max_iter) or scale the data as shown in:\n",
      "    https://scikit-learn.org/stable/modules/preprocessing.html\n",
      "Please also refer to the documentation for alternative solver options:\n",
      "    https://scikit-learn.org/stable/modules/linear_model.html#logistic-regression\n",
      "  n_iter_i = _check_optimize_result(\n"
     ]
    },
    {
     "name": "stdout",
     "output_type": "stream",
     "text": [
      "KNeighborsClassifier\n",
      "[[906 101]\n",
      " [235  67]]\n",
      "              precision    recall  f1-score   support\n",
      "\n",
      "           0       0.79      0.90      0.84      1007\n",
      "           1       0.40      0.22      0.29       302\n",
      "\n",
      "    accuracy                           0.74      1309\n",
      "   macro avg       0.60      0.56      0.56      1309\n",
      "weighted avg       0.70      0.74      0.71      1309\n",
      "\n",
      "AdaBoostClassifier\n",
      "[[951  56]\n",
      " [237  65]]\n",
      "              precision    recall  f1-score   support\n",
      "\n",
      "           0       0.80      0.94      0.87      1007\n",
      "           1       0.54      0.22      0.31       302\n",
      "\n",
      "    accuracy                           0.78      1309\n",
      "   macro avg       0.67      0.58      0.59      1309\n",
      "weighted avg       0.74      0.78      0.74      1309\n",
      "\n"
     ]
    },
    {
     "data": {
      "image/png": "[encoded data removed]",
      "text/plain": [
       "<Figure size 864x576 with 1 Axes>"
      ]
     },
     "metadata": {
      "needs_background": "light"
     },
     "output_type": "display_data"
    },
    {
     "data": {
      "image/png": "[encoded data removed]",
      "text/plain": [
       "<Figure size 864x576 with 1 Axes>"
      ]
     },
     "metadata": {
      "needs_background": "light"
     },
     "output_type": "display_data"
    },
    {
     "data": {
      "image/png": "[encoded data removed]",
      "text/plain": [
       "<Figure size 864x576 with 1 Axes>"
      ]
     },
     "metadata": {
      "needs_background": "light"
     },
     "output_type": "display_data"
    },
    {
     "data": {
      "image/png": "[encoded data removed]",
      "text/plain": [
       "<Figure size 864x576 with 1 Axes>"
      ]
     },
     "metadata": {
      "needs_background": "light"
     },
     "output_type": "display_data"
    },
    {
     "data": {
      "image/png": "[encoded data removed]",
      "text/plain": [
       "<Figure size 864x576 with 1 Axes>"
      ]
     },
     "metadata": {
      "needs_background": "light"
     },
     "output_type": "display_data"
    }
   ],
   "source": [
    "# Evaluation de chaque algorithme avec la fonction: evaluation_model.\n",
    "for name, model  in dict_of_models.items():\n",
    "    print(name)\n",
    "    evaluation_model(model)"
   ]
  },
  {
   "cell_type": "markdown",
   "id": "e1f19597",
   "metadata": {},
   "source": [
    "#### Globalement les modèles ayant les meillers performances:\n",
    "###### KNeightborClassifier:\n",
    "precision= 0.40; recall= 0.22 f1_score= 0.29\n",
    "###### AdaboostClassifier:\n",
    "precision= 0.54; recall= 0.22 f1_score= 0.31\n",
    "\n",
    "\n",
    "\n"
   ]
  },
  {
   "cell_type": "code",
   "execution_count": null,
   "id": "8f365d91",
   "metadata": {},
   "outputs": [],
   "source": []
  },
  {
   "cell_type": "markdown",
   "id": "30cf5a98",
   "metadata": {},
   "source": [
    "#### Nous avons essayer par la suite, d'ameliorer les deux modèles précedents en tilisant le GRIDSEARCH CV pour prédire  la probabilitéd'avoir au moins un sinistre sur une maison."
   ]
  },
  {
   "cell_type": "code",
   "execution_count": null,
   "id": "97dcdcec",
   "metadata": {},
   "outputs": [],
   "source": []
  },
  {
   "cell_type": "markdown",
   "id": "a6dcd7f8",
   "metadata": {},
   "source": [
    "### LE MEILLEUR MODELE POUR DETECTER UN SINISTRE SUR BATIMENT EST : ADABOOSTCLASSIFIER   \n",
    "\n",
    "###### precision= 0.54; recall= 0.22 f1_score= 0.31"
   ]
  },
  {
   "cell_type": "code",
   "execution_count": 218,
   "id": "9be3072d",
   "metadata": {},
   "outputs": [],
   "source": [
    "# knn=KNeighborsClassifier()\n",
    "# hyper_params_knn={'n_neighbors':[3,4,5,6,7,8], \n",
    "#                            'p':[1,2,3,4],\n",
    "                           \n",
    "#               }\n",
    "# grid=GridSearchCV(knn, hyper_params_knn,cv=5)\n",
    "# grid.fit(x_train,y_train)\n",
    "# print(\"Meilleurs parametres\",grid.best_params_)\n"
   ]
  },
  {
   "cell_type": "code",
   "execution_count": 208,
   "id": "85b60a97",
   "metadata": {},
   "outputs": [],
   "source": []
  },
  {
   "cell_type": "code",
   "execution_count": null,
   "id": "db820fdf",
   "metadata": {},
   "outputs": [],
   "source": []
  }
 ],
 "metadata": {
  "kernelspec": {
   "display_name": "Python 3",
   "language": "python",
   "name": "python3"
  },
  "language_info": {
   "codemirror_mode": {
    "name": "ipython",
    "version": 3
   },
   "file_extension": ".py",
   "mimetype": "text/x-python",
   "name": "python",
   "nbconvert_exporter": "python",
   "pygments_lexer": "ipython3",
   "version": "3.8.8"
  }
 },
 "nbformat": 4,
 "nbformat_minor": 5
}
